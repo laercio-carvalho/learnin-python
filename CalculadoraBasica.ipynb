{
 "cells": [
  {
   "cell_type": "code",
   "execution_count": 3,
   "id": "8a0f3ea2",
   "metadata": {},
   "outputs": [
    {
     "name": "stdout",
     "output_type": "stream",
     "text": [
      "Digite o valor de X: 6\n",
      "Escolha a Operação Matemática (+, -, *, /, **, //, %): /\n",
      "Digite o valor de Y: 2\n",
      "Nesta Divisão \n",
      "O resultado é: 3.0\n"
     ]
    }
   ],
   "source": [
    "x_float = float(input('Digite o valor de X: '))\n",
    "\n",
    "oper = input(\"Escolha a Operação Matemática (+, -, *, /, **, //, %): \")\n",
    "y_float = float(input('Digite o valor de Y: '))\n",
    "for i in range(1, 2):\n",
    "    if oper == \"+\":\n",
    "        print('Nesta soma ') \n",
    "        operacao = x_float+y_float\n",
    "    elif oper == \"-\":\n",
    "        print('Nesta subtração ') \n",
    "        operacao = x_float-y_float\n",
    "#    elif oper == \"*\":\n",
    "#       print (x_float*y_float)\n",
    "    elif oper == \"*\":\n",
    "        print('Nesta Multiplicação ') \n",
    "        operacao = x_float*y_float\n",
    "    elif oper == \"/\":\n",
    "        print('Nesta Divisão ')\n",
    "        operacao = x_float/y_float\n",
    "    elif oper == \"**\":\n",
    "        print('A Raíz desta Operação ')\n",
    "        operacao = x_float**y_float\n",
    "    elif oper == \"//\":\n",
    "        print('Nesta Divisão Inteira')\n",
    "        operacao = x_float//y_float\n",
    "    elif oper == \"%\":\n",
    "        print('O Resto dessa Divisão ')\n",
    "        operacao = x_float%y_float\n",
    "    else:\n",
    "        print('Operação não Suportada')\n",
    "\n",
    "print('O resultado é: ' +str(operacao))"
   ]
  },
  {
   "cell_type": "code",
   "execution_count": 11,
   "id": "a70aa737",
   "metadata": {},
   "outputs": [
    {
     "name": "stdout",
     "output_type": "stream",
     "text": [
      "Digite o valor de X: 1\n",
      "Digite o valor de Y: 4\n",
      "Nesta soma \n",
      "O resultado é: 5.0\n",
      "Nesta subtração \n",
      "O resultado é: -3.0\n",
      "Nesta Multiplicação \n",
      "O resultado é: 4.0\n",
      "Nesta Divisão \n",
      "O resultado é: 0.25\n",
      "A Raíz desta Operação \n",
      "O resultado é: 1.0\n",
      "Nesta Divisão Inteira\n",
      "O resultado é: 0.0\n",
      "O Resto dessa Divisão \n",
      "O resultado é: 1.0\n"
     ]
    }
   ],
   "source": [
    "x_float = float(input('Digite o valor de X: '))\n",
    "\n",
    "#oper = input(\"Escolha a Operação Matemática (+, -, *, /, **, //, %): \")\n",
    "y_float = float(input('Digite o valor de Y: '))\n",
    "print('Nesta soma ') \n",
    "operacao = x_float+y_float\n",
    "print('O resultado é: ' +str(operacao))\n",
    "\n",
    "print('Nesta subtração ') \n",
    "operacao = x_float-y_float\n",
    "print('O resultado é: ' +str(operacao))\n",
    "\n",
    "print('Nesta Multiplicação ') \n",
    "operacao = x_float*y_float\n",
    "print('O resultado é: ' +str(operacao))\n",
    "\n",
    "print('Nesta Divisão ')\n",
    "operacao = x_float/y_float\n",
    "print('O resultado é: ' +str(operacao))\n",
    "\n",
    "print('A Raíz desta Operação ')\n",
    "operacao = x_float**y_float\n",
    "print('O resultado é: ' +str(operacao))\n",
    "\n",
    "print('Nesta Divisão Inteira')\n",
    "operacao = x_float//y_float\n",
    "print('O resultado é: ' +str(operacao))\n",
    "\n",
    "print('O Resto dessa Divisão ')\n",
    "operacao = x_float%y_float\n",
    "print('O resultado é: ' +str(operacao))\n",
    "#print('O resultado é: ' +str(operacao))"
   ]
  },
  {
   "cell_type": "code",
   "execution_count": null,
   "id": "715ff8b4",
   "metadata": {},
   "outputs": [],
   "source": []
  },
  {
   "cell_type": "code",
   "execution_count": null,
   "id": "89ccd6e5",
   "metadata": {},
   "outputs": [],
   "source": []
  },
  {
   "cell_type": "code",
   "execution_count": null,
   "id": "a47b3b72",
   "metadata": {},
   "outputs": [],
   "source": []
  }
 ],
 "metadata": {
  "kernelspec": {
   "display_name": "Python 3 (ipykernel)",
   "language": "python",
   "name": "python3"
  },
  "language_info": {
   "codemirror_mode": {
    "name": "ipython",
    "version": 3
   },
   "file_extension": ".py",
   "mimetype": "text/x-python",
   "name": "python",
   "nbconvert_exporter": "python",
   "pygments_lexer": "ipython3",
   "version": "3.9.7"
  }
 },
 "nbformat": 4,
 "nbformat_minor": 5
}
