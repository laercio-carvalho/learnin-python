{
 "cells": [
  {
   "cell_type": "code",
   "execution_count": 10,
   "id": "dfd93679",
   "metadata": {},
   "outputs": [
    {
     "name": "stdout",
     "output_type": "stream",
     "text": [
      "Digite o número de pessoas na sala: 4\n",
      "Digite S caso a 1-a pessoa tenha ido ao Novo Shopping e N caso negativo: S\n",
      "Digite S caso a vista tenha sido boa e N caso contrário: N\n",
      "Digite S caso a 2-a pessoa tenha ido ao Novo Shopping e N caso negativo: N\n",
      "Digite S caso a 3-a pessoa tenha ido ao Novo Shopping e N caso negativo: S\n",
      "Digite S caso a vista tenha sido boa e N caso contrário: S\n",
      "Digite S caso a 4-a pessoa tenha ido ao Novo Shopping e N caso negativo: N\n",
      "De um total de 4 pessoas, 2 visitaram o Novo Shopping e deste total, 1 gostaram da visita.\n"
     ]
    }
   ],
   "source": [
    "#Este codigo pergunta quantas pessoas estão na sala e pergunta a cada uma quem foi, e quem gostou, do shopping\n",
    "foram = 0\n",
    "gostaram = 0\n",
    "\n",
    "n = int(input('Digite o número de pessoas na sala: '))\n",
    "for i in range(n):\n",
    "    foi= input('Digite S caso a ' + str(i + 1) + '-a pessoa tenha ido ao Novo Shopping e N caso negativo: ')\n",
    "    if foi == 'S':\n",
    "        foram += 1\n",
    "        #continue\n",
    "\n",
    "        #foram += 1\n",
    "\n",
    "        gostou = input('Digite S caso a vista tenha sido boa e N caso contrário: ')\n",
    "        if gostou == 'S':\n",
    "            gostaram += 1\n",
    "\n",
    "print('De um total de ' + str(n) + ' pessoas, ' + str(foram) + ' visitaram o Novo Shopping e deste total, ' + str(gostaram) + ' gostaram da visita.')"
   ]
  },
  {
   "cell_type": "code",
   "execution_count": 1,
   "id": "c20ff08a",
   "metadata": {},
   "outputs": [
    {
     "name": "stdout",
     "output_type": "stream",
     "text": [
      "1\n",
      "2\n",
      "3\n",
      "4\n",
      "5\n"
     ]
    }
   ],
   "source": [
    "#Contador iniciando em 1\n",
    "contador = 1\n",
    "\n",
    "#Enquanto for menor que 11 imprime o valor de contador\n",
    "while contador < 11:\n",
    "    print(contador)\n",
    "#se o contador for igual a 5 ele para a contagem.\n",
    "    if contador == 5:\n",
    "        break\n",
    "\n",
    "    contador += 1\n"
   ]
  },
  {
   "cell_type": "code",
   "execution_count": 3,
   "id": "41c058ec",
   "metadata": {},
   "outputs": [
    {
     "name": "stdout",
     "output_type": "stream",
     "text": [
      "1\n",
      "2\n",
      "3\n",
      "4\n",
      "5\n"
     ]
    }
   ],
   "source": [
    "#Enter script code\n",
    "#Contador iniciando em 1\n",
    "contador = 1\n",
    "\n",
    "#Enquanto for menor que 11 imprime o valor de contador\n",
    "while contador < 11:\n",
    "\tprint(contador)\n",
    "#se o contador for igual a 5 ele para a contagem.\n",
    "\tif contador == 5:\n",
    "\t\tbreak\n",
    "\n",
    "\tcontador += 1 "
   ]
  },
  {
   "cell_type": "code",
   "execution_count": null,
   "id": "5134fd6f",
   "metadata": {},
   "outputs": [],
   "source": []
  }
 ],
 "metadata": {
  "kernelspec": {
   "display_name": "Python 3 (ipykernel)",
   "language": "python",
   "name": "python3"
  },
  "language_info": {
   "codemirror_mode": {
    "name": "ipython",
    "version": 3
   },
   "file_extension": ".py",
   "mimetype": "text/x-python",
   "name": "python",
   "nbconvert_exporter": "python",
   "pygments_lexer": "ipython3",
   "version": "3.9.7"
  }
 },
 "nbformat": 4,
 "nbformat_minor": 5
}
