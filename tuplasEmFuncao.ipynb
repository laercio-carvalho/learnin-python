{
 "cells": [
  {
   "cell_type": "code",
   "execution_count": 24,
   "id": "1bad8a45",
   "metadata": {},
   "outputs": [
    {
     "name": "stdout",
     "output_type": "stream",
     "text": [
      "Digite seu nome: Laercio\n",
      "Digite sua idade: 18\n",
      "Informe seu salario: 2500\n"
     ]
    }
   ],
   "source": [
    "entrada_dados = input('Digite seu nome: '), int(input('Digite sua idade: ')), int(input('Informe seu salario: '))"
   ]
  },
  {
   "cell_type": "code",
   "execution_count": 25,
   "id": "a97d6cf1",
   "metadata": {},
   "outputs": [],
   "source": [
    "nome = entrada_dados[0]\n",
    "idade = entrada_dados[1]\n",
    "salario = entrada_dados[2]"
   ]
  },
  {
   "cell_type": "code",
   "execution_count": 26,
   "id": "7952f010",
   "metadata": {},
   "outputs": [
    {
     "name": "stdout",
     "output_type": "stream",
     "text": [
      "Este é o  Laercio  tem  18 anos e atualmente ganha:  2500 R$\n"
     ]
    }
   ],
   "source": [
    "#print('Este é o '+ str(nome) + ' tem ' + str(idade) + ' e atualmente ganha: '+ str(salario) + 'R$')\n",
    "print('Este é o ', nome, ' tem ', idade, 'anos e atualmente ganha: ', salario, 'R$')"
   ]
  },
  {
   "cell_type": "code",
   "execution_count": 36,
   "id": "291f9674",
   "metadata": {},
   "outputs": [],
   "source": [
    "#Entrada de dados para notas\n",
    "notas = (6.5, 7.8, 10.0, 9.1)\n",
    "i = 0\n",
    "total = 0\n",
    "\n",
    "total_soma = sum(notas)\n",
    "media = total_soma / len(notas)\n",
    "#print(\"Temos\", len(notas), \"notas ao todo\")"
   ]
  },
  {
   "cell_type": "code",
   "execution_count": 23,
   "id": "be04e9e8",
   "metadata": {},
   "outputs": [
    {
     "name": "stdout",
     "output_type": "stream",
     "text": [
      "6.5 é menor que a média\n",
      "7.8 é igual ou maior que a média\n",
      "10.0 é igual ou maior que a média\n",
      "9.1 é igual ou maior que a média\n"
     ]
    }
   ],
   "source": [
    "#Testando quais notas são maores que a média e as abaixo da média depois da entrada de dados acima\n",
    "while i < len(notas):\n",
    "    if notas[i] >= 7.0:\n",
    "        print(notas[i], \"é igual ou maior que a média\")\n",
    "    else:\n",
    "        print(notas[i], \"é menor que a média\")\n",
    "    i += 1"
   ]
  },
  {
   "cell_type": "code",
   "execution_count": null,
   "id": "be81ae88",
   "metadata": {},
   "outputs": [],
   "source": [
    "#Alternativa  usando o FOR\n",
    "for nota in notas:\n",
    "    if nota >= 7.0:\n",
    "        print(nota, \"é igual ou maior que a média\")\n",
    "    else:\n",
    "        print(nota, \"é menor que a média\")"
   ]
  },
  {
   "cell_type": "code",
   "execution_count": 35,
   "id": "f3777fd5",
   "metadata": {},
   "outputs": [
    {
     "name": "stdout",
     "output_type": "stream",
     "text": [
      "aprovado com média: 8.35\n"
     ]
    }
   ],
   "source": [
    "#Calculando a Media pra saber se passou\n",
    "for nota in notas:\n",
    "    total += nota\n",
    "media = total / len(notas)\n",
    "if media >= 7.0:\n",
    "    print(\"aprovado com média:\", media)\n",
    "else:\n",
    "    print(\"reprovado com média:\", media)"
   ]
  },
  {
   "cell_type": "code",
   "execution_count": 37,
   "id": "7f2987bb",
   "metadata": {},
   "outputs": [
    {
     "name": "stdout",
     "output_type": "stream",
     "text": [
      "aprovado com média: 8.35\n"
     ]
    }
   ],
   "source": [
    "#Agora Aproveitando as funções Total_Soma e Media \n",
    "if media >= 7.0:\n",
    "    print(\"aprovado com média:\", media)\n",
    "else:\n",
    "    print(\"reprovado com média:\", media)\n"
   ]
  },
  {
   "cell_type": "code",
   "execution_count": 39,
   "id": "481c4454",
   "metadata": {},
   "outputs": [
    {
     "name": "stdout",
     "output_type": "stream",
     "text": [
      "Urubu\n"
     ]
    }
   ],
   "source": [
    "animais = ('cobra', 'camaleão', 'Urubu', 'Jacaré')\n",
    "print(animais[-2])"
   ]
  },
  {
   "cell_type": "code",
   "execution_count": 44,
   "id": "77489874",
   "metadata": {},
   "outputs": [
    {
     "name": "stdout",
     "output_type": "stream",
     "text": [
      "1\n"
     ]
    }
   ],
   "source": [
    "#animais = ('cobra', 'camaleão', 'Urubu', 'Jacaré')\n",
    "valor_absoluto = abs(-1)\n",
    "print(valor_absoluto)"
   ]
  },
  {
   "cell_type": "code",
   "execution_count": 45,
   "id": "52419c4f",
   "metadata": {},
   "outputs": [],
   "source": [
    "#Entrada de Valres\n",
    "valores = (5, 4, 7, 1)\n",
    "maximo = 0"
   ]
  },
  {
   "cell_type": "code",
   "execution_count": 46,
   "id": "19c8901b",
   "metadata": {},
   "outputs": [
    {
     "name": "stdout",
     "output_type": "stream",
     "text": [
      "7\n"
     ]
    }
   ],
   "source": [
    "for valor in valores:\n",
    "    if valor > maximo:\n",
    "        maximo = valor\n",
    "print(maximo)"
   ]
  },
  {
   "cell_type": "code",
   "execution_count": null,
   "id": "6640b023",
   "metadata": {},
   "outputs": [],
   "source": []
  },
  {
   "cell_type": "code",
   "execution_count": null,
   "id": "412ecdf1",
   "metadata": {},
   "outputs": [],
   "source": []
  }
 ],
 "metadata": {
  "kernelspec": {
   "display_name": "Python 3 (ipykernel)",
   "language": "python",
   "name": "python3"
  },
  "language_info": {
   "codemirror_mode": {
    "name": "ipython",
    "version": 3
   },
   "file_extension": ".py",
   "mimetype": "text/x-python",
   "name": "python",
   "nbconvert_exporter": "python",
   "pygments_lexer": "ipython3",
   "version": "3.9.7"
  }
 },
 "nbformat": 4,
 "nbformat_minor": 5
}
