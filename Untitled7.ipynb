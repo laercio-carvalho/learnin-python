{
 "cells": [
  {
   "cell_type": "code",
   "execution_count": 2,
   "id": "2124386d",
   "metadata": {},
   "outputs": [],
   "source": [
    "def zero_esq(x, n):\n",
    "    xs = str(x)\n",
    "    return '0' * (n - len(xs)) + xs\n",
    " \n",
    "def formatar_data(ano, mes, dia):\n",
    "    return (zero_esq(dia, 2)\n",
    "    + '/' + zero_esq(mes, 2)\n",
    "    + '/' + zero_esq(ano, 4))\n"
   ]
  },
  {
   "cell_type": "code",
   "execution_count": 3,
   "id": "d656a3f8",
   "metadata": {},
   "outputs": [
    {
     "data": {
      "text/plain": [
       "'26/01/0198'"
      ]
     },
     "execution_count": 3,
     "metadata": {},
     "output_type": "execute_result"
    }
   ],
   "source": [
    "formatar_data(198, 1, 26)"
   ]
  },
  {
   "cell_type": "code",
   "execution_count": 14,
   "id": "ffac2aa3",
   "metadata": {},
   "outputs": [],
   "source": [
    "def zero_esq(x, n):\n",
    "    xs= str(x)\n",
    "    return '0' * (n - len(xs)) + xs\n",
    "\n",
    "def formatar_data(ano, mes, dia, extenso=False):\n",
    "    if extenso:\n",
    "        meses= ['janeiro', 'fevereiro', 'março,',\n",
    "     'abril', 'maio', 'junho', 'julho',\n",
    "     'agosto', 'setembro', 'outubro',\n",
    "     'novembro', 'dezembro']\n",
    "                \n",
    "        return (zero_esq(dia, 2)\n",
    "        + ' de ' + meses[mes-1]\n",
    "        + 'de' + zero_esq(ano, 4))\n",
    "    else:\n",
    "        return (zero_esq(dia, 2)\n",
    "        + '/' + zero_esq(mes, 2)\n",
    "        + '/' + zero_esq(ano, 4))"
   ]
  },
  {
   "cell_type": "code",
   "execution_count": 15,
   "id": "7b88653c",
   "metadata": {},
   "outputs": [
    {
     "data": {
      "text/plain": [
       "'26/01/0198'"
      ]
     },
     "execution_count": 15,
     "metadata": {},
     "output_type": "execute_result"
    }
   ],
   "source": [
    "formatar_data(198, 1, 26)"
   ]
  },
  {
   "cell_type": "code",
   "execution_count": null,
   "id": "1279eeb6",
   "metadata": {},
   "outputs": [],
   "source": []
  }
 ],
 "metadata": {
  "kernelspec": {
   "display_name": "Python 3 (ipykernel)",
   "language": "python",
   "name": "python3"
  },
  "language_info": {
   "codemirror_mode": {
    "name": "ipython",
    "version": 3
   },
   "file_extension": ".py",
   "mimetype": "text/x-python",
   "name": "python",
   "nbconvert_exporter": "python",
   "pygments_lexer": "ipython3",
   "version": "3.9.7"
  }
 },
 "nbformat": 4,
 "nbformat_minor": 5
}
