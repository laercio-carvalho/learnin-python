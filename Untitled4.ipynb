{
 "cells": [
  {
   "cell_type": "code",
   "execution_count": 2,
   "id": "987a32bd",
   "metadata": {},
   "outputs": [
    {
     "data": {
      "text/plain": [
       "{2, 3, 4, 5, 6, 7, 8, 9}"
      ]
     },
     "execution_count": 2,
     "metadata": {},
     "output_type": "execute_result"
    }
   ],
   "source": [
    "#Cria um conjunto de numeros inteiros maiores ou iguais a 2 e menores que 10\n",
    "set(range(2,10))"
   ]
  },
  {
   "cell_type": "code",
   "execution_count": 3,
   "id": "c94748d9",
   "metadata": {},
   "outputs": [
    {
     "data": {
      "text/plain": [
       "{9, 12, 15, 18, 21, 24, 27}"
      ]
     },
     "execution_count": 3,
     "metadata": {},
     "output_type": "execute_result"
    }
   ],
   "source": [
    "#Cria um conjunto de numeros inteiros maiores ou iguais a 9 e menores que 30\n",
    "set(range(9,30,3))"
   ]
  },
  {
   "cell_type": "code",
   "execution_count": 4,
   "id": "bd3ca833",
   "metadata": {},
   "outputs": [],
   "source": [
    "#Entrada de dados\n",
    "lista_animais = ['papagaio', 'onça', 'lobo', 'gavião', 'baleia']"
   ]
  },
  {
   "cell_type": "code",
   "execution_count": 5,
   "id": "a926b043",
   "metadata": {},
   "outputs": [
    {
     "name": "stdout",
     "output_type": "stream",
     "text": [
      "Lobo está no conjunto dos animais\n"
     ]
    }
   ],
   "source": [
    "#Verifica se lobo está na lista_animais\n",
    "if 'lobo' in lista_animais:\n",
    "    print('Lobo está no conjunto dos animais')"
   ]
  },
  {
   "cell_type": "code",
   "execution_count": 9,
   "id": "380a3a42",
   "metadata": {},
   "outputs": [
    {
     "name": "stdout",
     "output_type": "stream",
     "text": [
      "baleia\n",
      "papagaio\n",
      "lobo\n",
      "gavião\n",
      "onça\n"
     ]
    }
   ],
   "source": [
    "#Aqui o conjunto é exibido mas a ordem é aleatória\n",
    "conjunto_animais = {'papagaio', 'onça', 'lobo', 'gavião', 'baleia'}\n",
    "for animal in conjunto_animais:\n",
    "    print(animal)\n"
   ]
  },
  {
   "cell_type": "code",
   "execution_count": 10,
   "id": "792b3bcb",
   "metadata": {},
   "outputs": [
    {
     "data": {
      "text/plain": [
       "['Belo Horizonte',\n",
       " 'Brasília',\n",
       " 'Cuiabá',\n",
       " 'Fortaleza',\n",
       " 'Manaus',\n",
       " 'Natal',\n",
       " 'Rio de Janeiro']"
      ]
     },
     "execution_count": 10,
     "metadata": {},
     "output_type": "execute_result"
    }
   ],
   "source": [
    "#convertendo conjunto de lista ou tuplas retirando os repetidos e ordenando alfabeticamente \n",
    "cidades = ['Manaus', 'Brasília', 'Fortaleza', 'Manaus', 'Rio de Janeiro', 'Brasília', 'Fortaleza', 'Natal', 'Belo Horizonte', 'Fortaleza', 'Cuiabá', 'Rio de Janeiro']\n",
    "sorted(set(cidades))"
   ]
  },
  {
   "cell_type": "code",
   "execution_count": 13,
   "id": "fd5e03f0",
   "metadata": {},
   "outputs": [
    {
     "name": "stdout",
     "output_type": "stream",
     "text": [
      "baleia\n",
      "papagaio\n",
      "lobo\n",
      "gavião\n",
      "onça\n"
     ]
    }
   ],
   "source": [
    "conjunto_animais = {'papagaio', 'onça', 'lobo', 'gavião', 'baleia'}\n",
    "for animal in conjunto_animais:\n",
    "    print(animal)"
   ]
  },
  {
   "cell_type": "code",
   "execution_count": 14,
   "id": "7e42b932",
   "metadata": {},
   "outputs": [
    {
     "ename": "TypeError",
     "evalue": "unhashable type: 'list'",
     "output_type": "error",
     "traceback": [
      "\u001b[0;31m---------------------------------------------------------------------------\u001b[0m",
      "\u001b[0;31mTypeError\u001b[0m                                 Traceback (most recent call last)",
      "\u001b[0;32m/tmp/ipykernel_18089/2539460632.py\u001b[0m in \u001b[0;36m<module>\u001b[0;34m\u001b[0m\n\u001b[1;32m      1\u001b[0m \u001b[0mlista1\u001b[0m \u001b[0;34m=\u001b[0m \u001b[0;34m[\u001b[0m\u001b[0;36m1\u001b[0m\u001b[0;34m]\u001b[0m\u001b[0;34m\u001b[0m\u001b[0;34m\u001b[0m\u001b[0m\n\u001b[1;32m      2\u001b[0m \u001b[0mlista2\u001b[0m \u001b[0;34m=\u001b[0m \u001b[0;34m[\u001b[0m\u001b[0;34m]\u001b[0m\u001b[0;34m\u001b[0m\u001b[0;34m\u001b[0m\u001b[0m\n\u001b[0;32m----> 3\u001b[0;31m \u001b[0mconjunto\u001b[0m \u001b[0;34m=\u001b[0m \u001b[0;34m{\u001b[0m\u001b[0mlista1\u001b[0m\u001b[0;34m,\u001b[0m \u001b[0mlista2\u001b[0m\u001b[0;34m}\u001b[0m\u001b[0;34m\u001b[0m\u001b[0;34m\u001b[0m\u001b[0m\n\u001b[0m\u001b[1;32m      4\u001b[0m \u001b[0;32mdel\u001b[0m \u001b[0mlista1\u001b[0m\u001b[0;34m[\u001b[0m\u001b[0;36m0\u001b[0m\u001b[0;34m]\u001b[0m\u001b[0;34m\u001b[0m\u001b[0;34m\u001b[0m\u001b[0m\n",
      "\u001b[0;31mTypeError\u001b[0m: unhashable type: 'list'"
     ]
    }
   ],
   "source": [
    "lista1 = [1]\n",
    "lista2 = []\n",
    "conjunto = {lista1, lista2}\n",
    "del lista1[0]"
   ]
  },
  {
   "cell_type": "code",
   "execution_count": null,
   "id": "7c70b18d",
   "metadata": {},
   "outputs": [],
   "source": []
  }
 ],
 "metadata": {
  "kernelspec": {
   "display_name": "Python 3 (ipykernel)",
   "language": "python",
   "name": "python3"
  },
  "language_info": {
   "codemirror_mode": {
    "name": "ipython",
    "version": 3
   },
   "file_extension": ".py",
   "mimetype": "text/x-python",
   "name": "python",
   "nbconvert_exporter": "python",
   "pygments_lexer": "ipython3",
   "version": "3.9.7"
  }
 },
 "nbformat": 4,
 "nbformat_minor": 5
}
