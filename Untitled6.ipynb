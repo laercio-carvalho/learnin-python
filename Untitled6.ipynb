{
 "cells": [
  {
   "cell_type": "code",
   "execution_count": 11,
   "id": "3c4a07c8",
   "metadata": {},
   "outputs": [
    {
     "name": "stdout",
     "output_type": "stream",
     "text": [
      "Digite uma string qualquer: Estou amando este meu 1º curso de Python!\n"
     ]
    }
   ],
   "source": [
    "#Fazendo a leitura de Strings\n",
    "mensagem = input('Digite uma string qualquer: ') # leitura da string\n",
    "ocorrencias = {} # criação de um dicionário vazio\n",
    "for letra in mensagem:\n",
    "    ocorrencias[letra] = ocorrencias.get(letra, 0) + 1 # método get() com dois parâmetros"
   ]
  },
  {
   "cell_type": "code",
   "execution_count": 12,
   "id": "9d98822b",
   "metadata": {},
   "outputs": [
    {
     "name": "stdout",
     "output_type": "stream",
     "text": [
      "A mensagem digitada possui: 41 caracteres, sendo 19 caracteres únicos.\n",
      "Cada um destes caracteres únicos ocorreu: \n",
      "\t' ' ocorreu 7 vezes.\n",
      "\t'!' ocorreu 1 vezes.\n",
      "\t'1' ocorreu 1 vezes.\n",
      "\t'E' ocorreu 1 vezes.\n",
      "\t'P' ocorreu 1 vezes.\n",
      "\t'a' ocorreu 2 vezes.\n",
      "\t'c' ocorreu 1 vezes.\n",
      "\t'd' ocorreu 2 vezes.\n",
      "\t'e' ocorreu 4 vezes.\n",
      "\t'h' ocorreu 1 vezes.\n",
      "\t'm' ocorreu 2 vezes.\n",
      "\t'n' ocorreu 2 vezes.\n",
      "\t'o' ocorreu 4 vezes.\n",
      "\t'r' ocorreu 1 vezes.\n",
      "\t's' ocorreu 3 vezes.\n",
      "\t't' ocorreu 3 vezes.\n",
      "\t'u' ocorreu 3 vezes.\n",
      "\t'y' ocorreu 1 vezes.\n",
      "\t'º' ocorreu 1 vezes.\n"
     ]
    }
   ],
   "source": [
    "print('A mensagem digitada possui: {} caracteres, sendo {} caracteres únicos.'.format(len(mensagem), len(ocorrencias)))\n",
    "print('Cada um destes caracteres únicos ocorreu: ')\n",
    "for letra in sorted(ocorrencias):\n",
    "    print(\"\\t'{}' ocorreu {} vezes.\".format(letra, ocorrencias[letra]))"
   ]
  },
  {
   "cell_type": "code",
   "execution_count": 26,
   "id": "11ceb2c5",
   "metadata": {},
   "outputs": [
    {
     "data": {
      "text/plain": [
       "{'nome': 'Raimundo Nonato',\n",
       " 'telefone': '987654321',\n",
       " 'email': 'raimundo@gmail.com'}"
      ]
     },
     "execution_count": 26,
     "metadata": {},
     "output_type": "execute_result"
    }
   ],
   "source": [
    "contatos = {}\n",
    "{\n",
    "   'nome': 'Raimundo Nonato',\n",
    "   'telefone': '987654321',\n",
    "   'email': 'raimundo@gmail.com'\n",
    "}\n"
   ]
  },
  {
   "cell_type": "code",
   "execution_count": 29,
   "id": "30df0201",
   "metadata": {},
   "outputs": [
    {
     "name": "stdout",
     "output_type": "stream",
     "text": [
      "--- Adição de mais um contato --- \n",
      "Digite o nome do contato: leandro carvalho\n",
      "Digite o telefone do contato: 34946508\n",
      "Digite o email do contato: bohetuj@hotmail.com\n"
     ]
    }
   ],
   "source": [
    "#Cadastros de novos contatos.\n",
    "#contatos = {}\n",
    "ctt = {} # instanciando novo objeto da classe Contato\n",
    "print('--- Adição de mais um contato --- ') # fazendo leitura dos dados nas 3 linhas a seguir\n",
    "ctt['nome'] = input('Digite o nome do contato: ')\n",
    "ctt['telefone'] = input('Digite o telefone do contato: ')\n",
    "ctt['email'] = input('Digite o email do contato: ')\n",
    " \n",
    "inicial = ctt['nome'][0].upper() # assegurando que a inicial do nome do contato seja maiúscula\n",
    "if inicial not in contatos: # se nenhum contato com essa inicial foi incluído até o momento\n",
    "    contatos[inicial] = [] # então inicie a lista de contatos com esta inicial como uma lista vazia\n",
    "contatos[inicial].append(ctt) # adicione o novo contato na lista correta"
   ]
  },
  {
   "cell_type": "code",
   "execution_count": 30,
   "id": "593034ed",
   "metadata": {},
   "outputs": [
    {
     "name": "stdout",
     "output_type": "stream",
     "text": [
      "--- Contatos com a letra L ---\n",
      "Nome: Laercio Carvalho\tTelefone: 32577266\tEmail: aorchde@gmail.com\n",
      "Nome: leandro carvalho\tTelefone: 34946508\tEmail: bohetuj@hotmail.com\n"
     ]
    }
   ],
   "source": [
    "for inicial in sorted(contatos): # laço externo itera nas iniciais ordenadas\n",
    "    print('--- Contatos com a letra {} ---'.format(inicial))\n",
    "    for ctt in sorted(contatos[inicial], key=lambda c : c['nome']): # laço interno itera nos contatos ordenados\n",
    "        print('Nome: {}\\tTelefone: {}\\tEmail: {}'.format(ctt['nome'], ctt['telefone'], ctt['email']))"
   ]
  },
  {
   "cell_type": "code",
   "execution_count": 23,
   "id": "f545821a",
   "metadata": {},
   "outputs": [],
   "source": [
    "familia = {}\n",
    "familia ['pai'] = {'nome': 'João', 'idade': 40, 'passa-tempo': 'futebol'}\n",
    "familia ['mae'] = {'nome': 'Maria', 'idade': 40, 'profissão': 'professora'}\n",
    "familia ['filho 01'] = {'nome': 'Pedro', 'idade': 20, 'salario': 1000.0}\n",
    "familia ['filho 02'] = {'nome': 'João Filho', 'idade': 17}"
   ]
  },
  {
   "cell_type": "code",
   "execution_count": 25,
   "id": "7f23f5c6",
   "metadata": {},
   "outputs": [
    {
     "name": "stdout",
     "output_type": "stream",
     "text": [
      "Dados do(a): \n",
      "nome -> João\n",
      "idade -> 40\n",
      "passa-tempo -> futebol\n",
      " \n",
      "Dados do(a): \n",
      "nome -> Maria\n",
      "idade -> 40\n",
      "profissão -> professora\n",
      " \n",
      "Dados do(a): \n",
      "nome -> Pedro\n",
      "idade -> 20\n",
      "salario -> 1000.0\n",
      " \n",
      "Dados do(a): \n",
      "nome -> João Filho\n",
      "idade -> 17\n",
      " \n"
     ]
    }
   ],
   "source": [
    "for papel, dados in familia.items():\n",
    "    print('Dados do(a): '.format(papel))\n",
    "    for chave, dado in dados.items():\n",
    "        print('{} -> {}'.format(chave,dado))\n",
    "    print(' ')"
   ]
  },
  {
   "cell_type": "code",
   "execution_count": 32,
   "id": "8d12531d",
   "metadata": {},
   "outputs": [],
   "source": [
    "valores = {0: 'Oi', 1: 'Tchau', 2: '!', 'repeticao':3}\n",
    "valores['tabulacao'] = '\\n' \n",
    "#print(valores['Tchau']) "
   ]
  },
  {
   "cell_type": "code",
   "execution_count": 39,
   "id": "14a2a644",
   "metadata": {},
   "outputs": [
    {
     "name": "stdout",
     "output_type": "stream",
     "text": [
      "3\n"
     ]
    }
   ],
   "source": [
    "print(valores['repeticao'])"
   ]
  },
  {
   "cell_type": "code",
   "execution_count": 43,
   "id": "aa64c639",
   "metadata": {},
   "outputs": [
    {
     "name": "stdout",
     "output_type": "stream",
     "text": [
      "Digite uma string qualquer: Digitando mais alguma coisa\n"
     ]
    }
   ],
   "source": [
    "mensagem = input('Digite uma string qualquer: ')\n",
    "ocorrencias = {}\n",
    "for letra in mensagem:\n",
    "    ocorrencias[letra] = ocorrencias.get(letra, 0) + 1\n",
    "    #ocorrencias[letra] += 1"
   ]
  },
  {
   "cell_type": "code",
   "execution_count": 44,
   "id": "c0885c4c",
   "metadata": {},
   "outputs": [
    {
     "name": "stdout",
     "output_type": "stream",
     "text": [
      "{'D': 1, 'i': 4, 'g': 2, 't': 1, 'a': 5, 'n': 1, 'd': 1, 'o': 2, ' ': 3, 'm': 2, 's': 2, 'l': 1, 'u': 1, 'c': 1}\n"
     ]
    }
   ],
   "source": [
    "print(ocorrencias)"
   ]
  },
  {
   "cell_type": "code",
   "execution_count": 45,
   "id": "196503cc",
   "metadata": {},
   "outputs": [
    {
     "data": {
      "text/plain": [
       "3"
      ]
     },
     "execution_count": 45,
     "metadata": {},
     "output_type": "execute_result"
    }
   ],
   "source": [
    "len([1, 2, 3])\n"
   ]
  },
  {
   "cell_type": "code",
   "execution_count": null,
   "id": "4abe9297",
   "metadata": {},
   "outputs": [],
   "source": []
  }
 ],
 "metadata": {
  "kernelspec": {
   "display_name": "Python 3 (ipykernel)",
   "language": "python",
   "name": "python3"
  },
  "language_info": {
   "codemirror_mode": {
    "name": "ipython",
    "version": 3
   },
   "file_extension": ".py",
   "mimetype": "text/x-python",
   "name": "python",
   "nbconvert_exporter": "python",
   "pygments_lexer": "ipython3",
   "version": "3.9.7"
  }
 },
 "nbformat": 4,
 "nbformat_minor": 5
}
