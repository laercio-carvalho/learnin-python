{
 "cells": [
  {
   "cell_type": "code",
   "execution_count": 1,
   "id": "a572e37c",
   "metadata": {},
   "outputs": [
    {
     "name": "stdout",
     "output_type": "stream",
     "text": [
      "2\n",
      "3\n",
      "5\n",
      "7\n",
      "11\n",
      "13\n",
      "17\n",
      "19\n",
      "23\n",
      "29\n",
      "31\n",
      "37\n",
      "41\n",
      "43\n",
      "47\n",
      "53\n",
      "59\n",
      "61\n",
      "67\n",
      "71\n",
      "73\n",
      "79\n",
      "83\n",
      "89\n",
      "97\n",
      "100\n"
     ]
    }
   ],
   "source": [
    "def primos(x):\n",
    "    for i in range(1, x+1):\n",
    "        div = 0\n",
    "        for j in range(1, i+1):\n",
    "            if(i%j == 0):\n",
    "                div = div + 1\n",
    "        if (div == 2):\n",
    "            print(i)\n",
    "primos(100)\n",
    "print('100')"
   ]
  },
  {
   "cell_type": "code",
   "execution_count": 10,
   "id": "a8955dca",
   "metadata": {},
   "outputs": [],
   "source": [
    "for x in range(10, 0):\n",
    "\n",
    "    print(x)"
   ]
  },
  {
   "cell_type": "code",
   "execution_count": 12,
   "id": "e11c3dc5",
   "metadata": {},
   "outputs": [
    {
     "name": "stdout",
     "output_type": "stream",
     "text": [
      "4\n",
      "16\n",
      "36\n",
      "64\n",
      "100\n"
     ]
    }
   ],
   "source": [
    "#Imprime o quadrado dos numeros pares do 1 ao 10\n",
    "for i in range(1,11):\n",
    "    if i % 2 == 1:\n",
    "        continue\n",
    "    print(i**2)"
   ]
  },
  {
   "cell_type": "code",
   "execution_count": 19,
   "id": "81e8b254",
   "metadata": {},
   "outputs": [
    {
     "data": {
      "text/plain": [
       "range(10, 0, 3)"
      ]
     },
     "execution_count": 19,
     "metadata": {},
     "output_type": "execute_result"
    }
   ],
   "source": [
    "range(10, 0, 3)"
   ]
  },
  {
   "cell_type": "code",
   "execution_count": null,
   "id": "56d2eaaa",
   "metadata": {},
   "outputs": [],
   "source": []
  }
 ],
 "metadata": {
  "kernelspec": {
   "display_name": "Python 3 (ipykernel)",
   "language": "python",
   "name": "python3"
  },
  "language_info": {
   "codemirror_mode": {
    "name": "ipython",
    "version": 3
   },
   "file_extension": ".py",
   "mimetype": "text/x-python",
   "name": "python",
   "nbconvert_exporter": "python",
   "pygments_lexer": "ipython3",
   "version": "3.9.7"
  }
 },
 "nbformat": 4,
 "nbformat_minor": 5
}
