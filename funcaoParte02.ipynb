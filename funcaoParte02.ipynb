{
 "cells": [
  {
   "cell_type": "code",
   "execution_count": 3,
   "id": "8fdbd913",
   "metadata": {},
   "outputs": [
    {
     "name": "stdout",
     "output_type": "stream",
     "text": [
      "a = 2\n",
      "b = 3\n",
      "c = 4\n",
      "Raízes reais: ()\n"
     ]
    }
   ],
   "source": [
    "a = float(input('a = '))\n",
    "b = float(input('b = '))\n",
    "c = float(input('c = '))\n",
    " \n",
    "delta = b**2 - 4 * a * c\n",
    "if delta < 0:\n",
    "    raizes = ()\n",
    "else:\n",
    "    x1 = (-b + delta**0.5)/(2 * a)\n",
    "    x2 = (-b - delta**0.5)/(2 * a)\n",
    "    if delta == 0:\n",
    "        raizes = (x1,)\n",
    "    else:\n",
    "        raizes = (x1, x2)\n",
    " \n",
    "print('Raízes reais:', raizes)"
   ]
  },
  {
   "cell_type": "code",
   "execution_count": 10,
   "id": "a6565594",
   "metadata": {},
   "outputs": [],
   "source": [
    "def raizes2grau(a, b, c): \n",
    "    delta = b**2 - 4 * a * c\n",
    "    if delta < 0:\n",
    "        raizes = ()\n",
    "    else:\n",
    "        x1 = (-b + delta**0.5)/(2 * a)\n",
    "        x2 = (-b - delta**0.5)/(2 * a)\n",
    "        if delta == 0:\n",
    "            raizes = (x1,)\n",
    "        else:\n",
    "            raizes = (x1, x2)\n",
    "    return raizes"
   ]
  },
  {
   "cell_type": "code",
   "execution_count": 11,
   "id": "d5dc90e6",
   "metadata": {},
   "outputs": [
    {
     "name": "stdout",
     "output_type": "stream",
     "text": [
      "a = 3\n",
      "b = -15\n",
      "c = 18\n",
      "3.0x² + -15.0x + c = 0:\n",
      "Raízes reais: (3.0, 2.0)\n"
     ]
    }
   ],
   "source": [
    "valor_a = float(input('a = '))\n",
    "valor_b = float(input('b = '))\n",
    "valor_c = float(input('c = '))\n",
    "print('{}x² + {}x + c = 0:'.format(valor_a, valor_b, valor_c))\n",
    "print('Raízes reais:', raizes2grau(valor_a, valor_b, valor_c))"
   ]
  },
  {
   "cell_type": "code",
   "execution_count": 12,
   "id": "0dfe4c66",
   "metadata": {},
   "outputs": [
    {
     "name": "stdout",
     "output_type": "stream",
     "text": [
      "Olá, Marta\n"
     ]
    }
   ],
   "source": [
    "def diga_oi(nome):\n",
    "    return 'Oi, ' + nome\n",
    " \n",
    "def diga_oi(nome):\n",
    "    return 'Olá, ' + nome\n",
    " \n",
    "print(diga_oi('Marta'))"
   ]
  },
  {
   "cell_type": "code",
   "execution_count": 14,
   "id": "0fc44379",
   "metadata": {},
   "outputs": [
    {
     "name": "stdout",
     "output_type": "stream",
     "text": [
      "Olá, Marta\n"
     ]
    }
   ],
   "source": [
    "print(diga_oi('Marta'))\n",
    "\n",
    "def diga_oi(nome):\n",
    "    return 'Olá, ' + nome"
   ]
  },
  {
   "cell_type": "code",
   "execution_count": 16,
   "id": "ba55bd34",
   "metadata": {},
   "outputs": [
    {
     "name": "stdout",
     "output_type": "stream",
     "text": [
      "Dentro de f: a=3, b=4, x=6\n",
      "Fora de f: a=2, b=4, f(a+b)=f(6)=22\n"
     ]
    }
   ],
   "source": [
    "a = 2\n",
    "b = 4\n",
    " \n",
    "def f(x):\n",
    "    a= 3\n",
    "    print('Dentro de f: a={}, b={}, x={}'.format(a, b, x))\n",
    "    return a * x + b\n",
    " \n",
    "print('Fora de f: a={}, b={}, f(a+b)=f({})={}'.format(a, b, a+b, f(a+b)))"
   ]
  },
  {
   "cell_type": "code",
   "execution_count": null,
   "id": "41d53b12",
   "metadata": {},
   "outputs": [],
   "source": []
  }
 ],
 "metadata": {
  "kernelspec": {
   "display_name": "Python 3 (ipykernel)",
   "language": "python",
   "name": "python3"
  },
  "language_info": {
   "codemirror_mode": {
    "name": "ipython",
    "version": 3
   },
   "file_extension": ".py",
   "mimetype": "text/x-python",
   "name": "python",
   "nbconvert_exporter": "python",
   "pygments_lexer": "ipython3",
   "version": "3.9.7"
  }
 },
 "nbformat": 4,
 "nbformat_minor": 5
}
