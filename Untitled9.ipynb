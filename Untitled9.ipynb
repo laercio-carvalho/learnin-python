{
 "cells": [
  {
   "cell_type": "code",
   "execution_count": 1,
   "id": "2667b4cd",
   "metadata": {},
   "outputs": [],
   "source": [
    "def formatar_data(ano, mes, dia, mes_extenso=False, seculo=True):\n",
    "    meses = [\n",
    "         'jan', 'fev', 'mar', 'abr', 'mai', 'jun',\n",
    "         'jul', 'ago', 'set', 'out', 'nov', 'dez'\n",
    "     ]\n",
    "    \n",
    "    if seculo:\n",
    "         ano_str = str(ano)\n",
    "    else:\n",
    "        ano_str = str(ano % 100)\n",
    "    \n",
    "    if mes_extenso:\n",
    "         mes_str = meses[mes-1]\n",
    "    else:\n",
    "        mes_str = str(mes)\n",
    "            \n",
    "    dia_str = str(dia)\n",
    "            \n",
    "    return dia_str + '/' + mes_str + '/' + ano_str"
   ]
  },
  {
   "cell_type": "code",
   "execution_count": 2,
   "id": "f3049ac0",
   "metadata": {},
   "outputs": [
    {
     "data": {
      "text/plain": [
       "'6/5/2020'"
      ]
     },
     "execution_count": 2,
     "metadata": {},
     "output_type": "execute_result"
    }
   ],
   "source": [
    "formatar_data(2020, 5, 6, False, True)"
   ]
  },
  {
   "cell_type": "code",
   "execution_count": 3,
   "id": "5968dfd5",
   "metadata": {},
   "outputs": [
    {
     "data": {
      "text/plain": [
       "'6/mai/20'"
      ]
     },
     "execution_count": 3,
     "metadata": {},
     "output_type": "execute_result"
    }
   ],
   "source": [
    "formatar_data(2020, 5, 6, seculo=False, mes_extenso=True)"
   ]
  },
  {
   "cell_type": "code",
   "execution_count": null,
   "id": "e6d86423",
   "metadata": {},
   "outputs": [],
   "source": []
  }
 ],
 "metadata": {
  "kernelspec": {
   "display_name": "Python 3 (ipykernel)",
   "language": "python",
   "name": "python3"
  },
  "language_info": {
   "codemirror_mode": {
    "name": "ipython",
    "version": 3
   },
   "file_extension": ".py",
   "mimetype": "text/x-python",
   "name": "python",
   "nbconvert_exporter": "python",
   "pygments_lexer": "ipython3",
   "version": "3.9.7"
  }
 },
 "nbformat": 4,
 "nbformat_minor": 5
}
