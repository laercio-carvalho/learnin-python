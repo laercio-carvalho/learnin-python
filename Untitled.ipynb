{
 "cells": [
  {
   "cell_type": "markdown",
   "id": "bf0882eb",
   "metadata": {},
   "source": [
    "# Mas Peraí, como é que este texto escrito em negrito e itálico?\n",
    "Neste momento, estamos no browser, correto. Logo podemos usar elementos de marcação HTML para ficar mais agradável. Então, Clique duas vezes na celula acima e verifique que existem marcações para o texto se tornar itálico, e, além disso, marcações para o texto ficar em negrito. Assim, clique novamente em **Run**, e perceba que a célula será apresentada de maneira correta. Não se preocupe, com o tempo, você vai ficar craque em\n",
    "escrever lindas células do tipo *Markdown*."
   ]
  },
  {
   "cell_type": "code",
   "execution_count": 8,
   "id": "a90630d3",
   "metadata": {},
   "outputs": [
    {
     "name": "stdout",
     "output_type": "stream",
     "text": [
      "Olá Mundo\n"
     ]
    }
   ],
   "source": [
    "print(\"Olá Mundo\")"
   ]
  },
  {
   "cell_type": "code",
   "execution_count": 8,
   "id": "da9fc21d",
   "metadata": {},
   "outputs": [
    {
     "name": "stdout",
     "output_type": "stream",
     "text": [
      "Digite seu peso: 60.4\n"
     ]
    }
   ],
   "source": [
    "peso_usuario = input('Digite seu peso: ')"
   ]
  },
  {
   "cell_type": "code",
   "execution_count": 9,
   "id": "f8c6a554",
   "metadata": {},
   "outputs": [],
   "source": [
    "peso_usuario_float = float(peso_usuario)"
   ]
  },
  {
   "cell_type": "code",
   "execution_count": 10,
   "id": "4e0c55ad",
   "metadata": {},
   "outputs": [
    {
     "name": "stdout",
     "output_type": "stream",
     "text": [
      "60.4\n"
     ]
    }
   ],
   "source": [
    "print(peso_usuario)"
   ]
  },
  {
   "cell_type": "code",
   "execution_count": 14,
   "id": "f8ca6385",
   "metadata": {},
   "outputs": [
    {
     "ename": "SyntaxError",
     "evalue": "invalid character '‘' (U+2018) (4175763745.py, line 1)",
     "output_type": "error",
     "traceback": [
      "\u001b[0;36m  File \u001b[0;32m\"/tmp/ipykernel_19573/4175763745.py\"\u001b[0;36m, line \u001b[0;32m1\u001b[0m\n\u001b[0;31m    idade_paciente = input(‘Digite a idade do paciente: ’)\u001b[0m\n\u001b[0m                           ^\u001b[0m\n\u001b[0;31mSyntaxError\u001b[0m\u001b[0;31m:\u001b[0m invalid character '‘' (U+2018)\n"
     ]
    }
   ],
   "source": [
    "idade_paciente = input(‘Digite a idade do paciente: ’)\n",
    "print(idade_paciente)"
   ]
  },
  {
   "cell_type": "code",
   "execution_count": null,
   "id": "b594cff5",
   "metadata": {},
   "outputs": [],
   "source": []
  }
 ],
 "metadata": {
  "kernelspec": {
   "display_name": "Python 3 (ipykernel)",
   "language": "python",
   "name": "python3"
  },
  "language_info": {
   "codemirror_mode": {
    "name": "ipython",
    "version": 3
   },
   "file_extension": ".py",
   "mimetype": "text/x-python",
   "name": "python",
   "nbconvert_exporter": "python",
   "pygments_lexer": "ipython3",
   "version": "3.9.7"
  }
 },
 "nbformat": 4,
 "nbformat_minor": 5
}
