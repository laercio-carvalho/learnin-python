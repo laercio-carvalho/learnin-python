{
 "cells": [
  {
   "cell_type": "code",
   "execution_count": 3,
   "id": "b7afc486",
   "metadata": {},
   "outputs": [
    {
     "name": "stdout",
     "output_type": "stream",
     "text": [
      "11\n"
     ]
    }
   ],
   "source": [
    "msg = \"Olá, mundo!\"\n",
    "print(len(msg)) # Será impresso o valor 11 que é a quantidade de caractére na frase."
   ]
  },
  {
   "cell_type": "code",
   "execution_count": 20,
   "id": "ddf7c79e",
   "metadata": {},
   "outputs": [],
   "source": [
    "#Dividiu a mensagem em dois e apagou os caracteres da direita \n",
    "primeira_parte = msg[ : len(msg) // 2]\n",
    "#Dividiu a mensagem e apagou os caracteres da esquerda\n",
    "segunda_parte = msg[len(msg) // 2: ]"
   ]
  },
  {
   "cell_type": "code",
   "execution_count": 28,
   "id": "8e6fce30",
   "metadata": {},
   "outputs": [
    {
     "name": "stdout",
     "output_type": "stream",
     "text": [
      "OLÁ, \n",
      "mundo!\n"
     ]
    }
   ],
   "source": [
    "#A primeira parte da frase em MAIÚSCULA\n",
    "print(primeira_parte.upper())\n",
    "print(segunda_parte)"
   ]
  },
  {
   "cell_type": "code",
   "execution_count": 31,
   "id": "0d327b78",
   "metadata": {},
   "outputs": [
    {
     "name": "stdout",
     "output_type": "stream",
     "text": [
      "Olá, \n",
      "olá, \n"
     ]
    }
   ],
   "source": [
    "#Deixando tudo minúsculo\n",
    "print(primeira_parte)\n",
    "print(primeira_parte.lower())"
   ]
  },
  {
   "cell_type": "code",
   "execution_count": 35,
   "id": "efbb5149",
   "metadata": {},
   "outputs": [
    {
     "name": "stdout",
     "output_type": "stream",
     "text": [
      "Digite sua idade: eui\n",
      "Idade inválida!\n"
     ]
    }
   ],
   "source": [
    "idade_str = input(\"Digite sua idade: \")\n",
    "if idade_str.isnumeric() == True:\n",
    "    idade = int(idade_str)\n",
    "    print(\"Você tem \" + idade_str + \" de idade\")\n",
    "else:\n",
    "    print(\"Idade inválida!\")"
   ]
  },
  {
   "cell_type": "code",
   "execution_count": 49,
   "id": "98d9cd37",
   "metadata": {},
   "outputs": [
    {
     "name": "stdout",
     "output_type": "stream",
     "text": [
      "6\n",
      "6\n"
     ]
    }
   ],
   "source": [
    "#Contar quantas vezes a palavra \"amava\" aparecem\n",
    "quantos = \"\"\"João amava Teresa que amava Raimundo que amava Maria que amava Joaquim que amava Lili que não amava ninguém. \"\"\".count(\"amava\")\n",
    "\n",
    "print(quantos) # vai imprimir o valor 6"
   ]
  },
  {
   "cell_type": "code",
   "execution_count": 51,
   "id": "50f8d6f3",
   "metadata": {},
   "outputs": [
    {
     "name": "stdout",
     "output_type": "stream",
     "text": [
      "João colava de Teresa que colava de Raimundo\n",
      "que colava de Maria que colava de Joaquim que colava de Lili\n",
      "que não colava de ninguém. \n"
     ]
    }
   ],
   "source": [
    "#Aqui é um algoritmo de substituição. Nele trocaremos a palavra \"amava\" por \"colava de\"\n",
    "quantos = \"\"\"João amava Teresa que amava Raimundo\n",
    "que amava Maria que amava Joaquim que amava Lili\n",
    "que não amava ninguém. \"\"\".replace(\"amava\", \"colava de\")\n",
    "print(quantos)"
   ]
  },
  {
   "cell_type": "code",
   "execution_count": 56,
   "id": "ac349420",
   "metadata": {},
   "outputs": [
    {
     "name": "stdout",
     "output_type": "stream",
     "text": [
      "Paulo não está na lista de pessoas.\n"
     ]
    }
   ],
   "source": [
    "#Com a utilização de In podemos checar se a palavra \"Paulo\" está no poema\n",
    "texto = \"\"\"João amava Teresa que amava Raimundo\n",
    "que amava Maria que amava Joaquim que amava Lili\n",
    "que não amava ninguém. \"\"\"\n",
    "if \"Paulo\" in texto:\n",
    "    print(\"Paulo está na lista de pessoas.\")\n",
    "else:\n",
    "    print(\"Paulo não está na lista de pessoas.\")"
   ]
  },
  {
   "cell_type": "code",
   "execution_count": 57,
   "id": "a76f3613",
   "metadata": {},
   "outputs": [
    {
     "name": "stdout",
     "output_type": "stream",
     "text": [
      "João colava de Teresa que colava de Raimundo\n",
      "que colava de Maria que colava de Joaquim que colava de Lili\n",
      "que não colava de ninguém.\n"
     ]
    }
   ],
   "source": [
    "poema = \"João amava Teresa que amava Raimundo\\nque amava Maria que amava Joaquim que amava Lili\\nque não amava ninguém.\"\n",
    "print(poema.replace(\"amava\" , \"colava de\"))"
   ]
  },
  {
   "cell_type": "code",
   "execution_count": 58,
   "id": "e6112030",
   "metadata": {},
   "outputs": [
    {
     "name": "stdout",
     "output_type": "stream",
     "text": [
      "Digite seu nome: laercio carvalho silva\n",
      "Digite sua idade: 18\n",
      "Digite sua altura: 1.87\n",
      "Olá, laercio carvalho silva! Sua idade é 18 anos e sua altura é 1.87m. \n"
     ]
    }
   ],
   "source": [
    "nome = input('Digite seu nome: ')\n",
    "idade = int(input('Digite sua idade: '))\n",
    "altura = float(input('Digite sua altura: '))\n",
    "# Nova forma de atribuir as variáveis dentro do texto da string com o formato definido e nas posições e ordens corretas.  \n",
    "formato_msg = 'Olá, {}! Sua idade é {} anos e sua altura é {}m. '\n",
    "msg = formato_msg.format(nome, idade, altura)\n",
    "print(msg)"
   ]
  },
  {
   "cell_type": "code",
   "execution_count": null,
   "id": "1621ec39",
   "metadata": {},
   "outputs": [],
   "source": []
  }
 ],
 "metadata": {
  "kernelspec": {
   "display_name": "Python 3 (ipykernel)",
   "language": "python",
   "name": "python3"
  },
  "language_info": {
   "codemirror_mode": {
    "name": "ipython",
    "version": 3
   },
   "file_extension": ".py",
   "mimetype": "text/x-python",
   "name": "python",
   "nbconvert_exporter": "python",
   "pygments_lexer": "ipython3",
   "version": "3.9.7"
  }
 },
 "nbformat": 4,
 "nbformat_minor": 5
}
