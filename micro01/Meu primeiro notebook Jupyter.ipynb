{
 "cells": [
  {
   "cell_type": "markdown",
   "metadata": {},
   "source": [
    "Olá, seja bem-vindo ao seu primeiro notebook Jupyter. Neste notebook, você vai ser apresentado aos principais conceitos de um notebook Jupyter na prática de uso da própria ferramenta."
   ]
  },
  {
   "cell_type": "markdown",
   "metadata": {},
   "source": [
    "Na parte superior da página, há uma logo do Jupyter, e, ao lado, o nome do notebook que você abriu, para que seja possível identificar se você está editando o arquivo correto. Depois, você encontrará a logo do Python, para avisar que este notebook é para a linguagem Python. Há também um botão para lougout, mas não é algo que você deve se preocupar agora."
   ]
  },
  {
   "cell_type": "markdown",
   "metadata": {},
   "source": [
    "Logo abaixo, haverá uma barra de menus com diversas opções, como File, Edit, View, Insert, Cell e Kernel. Durante o curso você ira conhecer várias dela, cada uma no momento certo. Em baixo dessa barra, há a lista de ações mais comuns para se executar em um notebook Python."
   ]
  },
  {
   "cell_type": "markdown",
   "metadata": {},
   "source": [
    "Bom, um notebook Jupyter é dividido em células. Elas são pedaços independentes de cada notebook. Por isso, existem dois tipos de células básicos, que são as do tipo *Markdown* e as do tipo *Code*. As células *Markdown* são aquelas que você pode editar, e servem como explicação do seu notebook. Elas também podem estar no modo de edição, quando há um retângulo verde ao redor delas; e no modo execução, quando há um retângulo azul. Estes modos são exemplificados na figura abaixo.  Vale ressaltar que as células desse tipo são feitas para que você narre o que o seu programa está fazendo. Logo, você é livre para escrever texto do jeito que você quiser."
   ]
  },
  {
   "cell_type": "markdown",
   "metadata": {},
   "source": [
    "# Mas espera aí, como é que tem texto escrito em negrito e itálico?\n",
    "\n",
    "As células do tipo Markdown oferecem uma sintaxe de marcação própria onde você pode criar elementos diferentes. Então, clique duas vezes na célula acima e verifique que existem marcações para o texto se tornar itálico, e, além disso, marcações para o texto ficar em negrito. Assim, clique novamente em **Run**, e perceba que a célula será apresentada de maneira correta. Não se preocupe, com o tempo, você vai ficar craque em escrever lindas células do tipo *Markdown*."
   ]
  },
  {
   "cell_type": "markdown",
   "metadata": {},
   "source": [
    "A célula abaixo é diferente de todas as outras. Ela é uma célula do tipo *Code*. **Células deste tipo são as células feitas para que você desenvolva seu código fonte em Python.** Tal como as células do tipo *Markdown*, cada célula *Code* é independente das demais.\n",
    "\n",
    "## Pronto! Agora você chegou no momento mais importante.\n",
    "\n",
    "O código presente na célula abaixo é o seu primeiro programa Python, parabéns por chegar até aqui! Ele é muito simples e quando executado escreve \"Olá, mundo!\". Clique em **Run** até que a célula abaixo seja executada e perceba o resultado."
   ]
  },
  {
   "cell_type": "code",
   "execution_count": 2,
   "metadata": {},
   "outputs": [
    {
     "name": "stdout",
     "output_type": "stream",
     "text": [
      "Olá, mundo!\n"
     ]
    }
   ],
   "source": [
    "print(\"Olá, mundo!\")"
   ]
  },
  {
   "cell_type": "markdown",
   "metadata": {},
   "source": [
    "Quando você executou a célula acima, apareceu uma mensagem \"Olá, mundo!\". Por quê isto ocorreu? Isto ocorreu, pois você utilizou o comando print() do Python, que escreve em tela o conteúdo que está dentro dos parênteses. Como este conteúdo é texto, você deve escrevê-lo entre aspas. Vamos então escrever um texto só nosso. Clique na célula abaixo e troque o texto TROQUE PELO SEU NOME por, justamente, o seu nome. Depois disto, clique em **Run** para executar e ver o resultado."
   ]
  },
  {
   "cell_type": "code",
   "execution_count": 1,
   "metadata": {},
   "outputs": [
    {
     "name": "stdout",
     "output_type": "stream",
     "text": [
      "Meu nome é: Laércio Carvalho Silva\n"
     ]
    }
   ],
   "source": [
    "print(\"Meu nome é: Laércio Carvalho Silva\")"
   ]
  },
  {
   "cell_type": "markdown",
   "metadata": {},
   "source": [
    "Tudo muito simples, mas importante, saiba disto! Acho que já deu por agora, correto? Feche esta página, feche a página anterior, feche o prompt de comando criado quando você abriu o Jupyter, volte para a plataforma do curso e realize os exercícios propostos. Até mais!"
   ]
  }
 ],
 "metadata": {
  "kernelspec": {
   "display_name": "Python 3 (ipykernel)",
   "language": "python",
   "name": "python3"
  },
  "language_info": {
   "codemirror_mode": {
    "name": "ipython",
    "version": 3
   },
   "file_extension": ".py",
   "mimetype": "text/x-python",
   "name": "python",
   "nbconvert_exporter": "python",
   "pygments_lexer": "ipython3",
   "version": "3.9.7"
  }
 },
 "nbformat": 4,
 "nbformat_minor": 4
}
