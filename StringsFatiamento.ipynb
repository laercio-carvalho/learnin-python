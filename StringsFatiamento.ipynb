{
 "cells": [
  {
   "cell_type": "code",
   "execution_count": 1,
   "id": "1cd09b00",
   "metadata": {},
   "outputs": [
    {
     "data": {
      "text/plain": [
       "True"
      ]
     },
     "execution_count": 1,
     "metadata": {},
     "output_type": "execute_result"
    }
   ],
   "source": [
    "\"dinheiro\" < \"felicidade\" # retorna True"
   ]
  },
  {
   "cell_type": "code",
   "execution_count": 2,
   "id": "0c088d17",
   "metadata": {},
   "outputs": [
    {
     "data": {
      "text/plain": [
       "False"
      ]
     },
     "execution_count": 2,
     "metadata": {},
     "output_type": "execute_result"
    }
   ],
   "source": [
    "\"sono\" > \"vontade\" # retorna False"
   ]
  },
  {
   "cell_type": "code",
   "execution_count": 8,
   "id": "e0ebecaf",
   "metadata": {},
   "outputs": [
    {
     "data": {
      "text/plain": [
       "'uma string outra string e o numero: 89'"
      ]
     },
     "execution_count": 8,
     "metadata": {},
     "output_type": "execute_result"
    }
   ],
   "source": [
    "primeira = \"uma string\"\n",
    "segunda = \" outra string e o numero: \"\n",
    "numero01 = 72\n",
    "numero02 = 17\n",
    "primeira + segunda + str(numero01 + numero02)"
   ]
  },
  {
   "cell_type": "code",
   "execution_count": 9,
   "id": "a658b05c",
   "metadata": {},
   "outputs": [],
   "source": [
    "hello = \"Olá, mundo!\""
   ]
  },
  {
   "cell_type": "code",
   "execution_count": 29,
   "id": "bfdd7e1d",
   "metadata": {},
   "outputs": [
    {
     "name": "stdout",
     "output_type": "stream",
     "text": [
      "Olá, mundo!\n",
      "ndo!\n",
      " mundo!\n",
      "Olá\n",
      "Olá, mun\n"
     ]
    }
   ],
   "source": [
    "print(hello)\n",
    "#Extrai os 5 ultimos caractéres limitando dos 11, da direita pra esquerda, de 11 possíveis\n",
    "print(hello[-4:11])\n",
    "#Apaga os 4 primeios caracteres dos 11 possíveis\n",
    "print(hello[4:11])\n",
    "\n",
    "#Mostra somente os 3 primeios caracteres dos 11 possíveis\n",
    "print(hello[0:3])\n",
    "#Apaga somente os 3 ultimos caracteres dos 11 possíveis\n",
    "print(hello[0:-3])"
   ]
  },
  {
   "cell_type": "code",
   "execution_count": 3,
   "id": "cb51e65d",
   "metadata": {},
   "outputs": [
    {
     "name": "stdout",
     "output_type": "stream",
     "text": [
      "Python\n"
     ]
    }
   ],
   "source": [
    "x = 'A linguagem Python é ótima'\n",
    "print(x[12:-8])"
   ]
  },
  {
   "cell_type": "code",
   "execution_count": 4,
   "id": "41bd12c9",
   "metadata": {},
   "outputs": [
    {
     "name": "stdout",
     "output_type": "stream",
     "text": [
      "a\n"
     ]
    }
   ],
   "source": [
    "print(x[-1])"
   ]
  },
  {
   "cell_type": "code",
   "execution_count": null,
   "id": "70d538da",
   "metadata": {},
   "outputs": [],
   "source": []
  }
 ],
 "metadata": {
  "kernelspec": {
   "display_name": "Python 3 (ipykernel)",
   "language": "python",
   "name": "python3"
  },
  "language_info": {
   "codemirror_mode": {
    "name": "ipython",
    "version": 3
   },
   "file_extension": ".py",
   "mimetype": "text/x-python",
   "name": "python",
   "nbconvert_exporter": "python",
   "pygments_lexer": "ipython3",
   "version": "3.9.7"
  }
 },
 "nbformat": 4,
 "nbformat_minor": 5
}
