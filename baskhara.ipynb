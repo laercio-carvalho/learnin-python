{
 "cells": [
  {
   "cell_type": "code",
   "execution_count": 39,
   "id": "b14b5d8a",
   "metadata": {},
   "outputs": [
    {
     "name": "stdout",
     "output_type": "stream",
     "text": [
      "Digite o valor de A: 2\n",
      "Digite o valor de B: -10\n",
      "Digite o valor de C: 8\n",
      "O valor de Delta é: 36.0\n",
      "O valor de X¹ é: 4.0\n",
      "O valor de X² é: 1.0\n"
     ]
    }
   ],
   "source": [
    "import math\n",
    "\n",
    "a_float = float(input('Digite o valor de A: '))\n",
    "b_float = float(input('Digite o valor de B: '))\n",
    "c_float = float(input('Digite o valor de C: '))\n",
    "\n",
    "bQuadrado = b_float * b_float\n",
    "\n",
    "delta = bQuadrado - 4* (a_float * c_float)\n",
    "\n",
    "#x1 = (-1*(b_float)+(delta**(0.5)))/(2 * a_float)\n",
    "x1 = (-1*(b_float)+pow(delta,0.5))/(2 * a_float)\n",
    "x2 = (-1*(b_float)-(delta**(0.5)))/(2 * a_float)\n",
    "\n",
    "print('O valor de Delta é: '+str(delta))\n",
    "print('O valor de X¹ é: '+str(x1))\n",
    "print('O valor de X² é: '+str(x2))"
   ]
  },
  {
   "cell_type": "code",
   "execution_count": 37,
   "id": "e6a8ccf5",
   "metadata": {},
   "outputs": [
    {
     "name": "stdout",
     "output_type": "stream",
     "text": [
      "6.0\n"
     ]
    }
   ],
   "source": [
    "print(pow(delta,0.5))"
   ]
  },
  {
   "cell_type": "code",
   "execution_count": 40,
   "id": "08a4f0fc",
   "metadata": {},
   "outputs": [
    {
     "name": "stdout",
     "output_type": "stream",
     "text": [
      "O IP do Host \"google.com\" é: 142.251.129.142\n"
     ]
    }
   ],
   "source": [
    "import socket as s\n",
    "\n",
    "host = 'google.com'\n",
    "\n",
    "Ip = s.gethostbyname(host)\n",
    "\n",
    "print('O IP do Host \"' +host + '\" é: ' + Ip)"
   ]
  },
  {
   "cell_type": "code",
   "execution_count": 54,
   "id": "f660f3af",
   "metadata": {},
   "outputs": [
    {
     "name": "stdout",
     "output_type": "stream",
     "text": [
      "Digite o valor de X: 4\n",
      "Digite o valor de Y: 1\n",
      "Digite a forma da operação (+,-,*,/,**,//,%): -\n"
     ]
    },
    {
     "ename": "TypeError",
     "evalue": "unsupported operand type(s) for +: 'float' and 'str'",
     "output_type": "error",
     "traceback": [
      "\u001b[0;31m---------------------------------------------------------------------------\u001b[0m",
      "\u001b[0;31mTypeError\u001b[0m                                 Traceback (most recent call last)",
      "\u001b[0;32m/tmp/ipykernel_42470/2172621037.py\u001b[0m in \u001b[0;36m<module>\u001b[0;34m\u001b[0m\n\u001b[1;32m      3\u001b[0m \u001b[0;34m\u001b[0m\u001b[0m\n\u001b[1;32m      4\u001b[0m \u001b[0moperador\u001b[0m \u001b[0;34m=\u001b[0m \u001b[0minput\u001b[0m\u001b[0;34m(\u001b[0m\u001b[0;34m'Digite a forma da operação (+,-,*,/,**,//,%): '\u001b[0m\u001b[0;34m)\u001b[0m\u001b[0;34m\u001b[0m\u001b[0;34m\u001b[0m\u001b[0m\n\u001b[0;32m----> 5\u001b[0;31m \u001b[0moperacao\u001b[0m \u001b[0;34m=\u001b[0m \u001b[0mx_float\u001b[0m \u001b[0;34m+\u001b[0m\u001b[0moperador\u001b[0m\u001b[0;34m+\u001b[0m \u001b[0my_float\u001b[0m\u001b[0;34m\u001b[0m\u001b[0;34m\u001b[0m\u001b[0m\n\u001b[0m\u001b[1;32m      6\u001b[0m \u001b[0;34m\u001b[0m\u001b[0m\n\u001b[1;32m      7\u001b[0m \u001b[0mprint\u001b[0m\u001b[0;34m(\u001b[0m\u001b[0;34m'O resultado é %s: '\u001b[0m \u001b[0;34m%\u001b[0m \u001b[0;34m+\u001b[0m\u001b[0moperacao\u001b[0m\u001b[0;34m)\u001b[0m\u001b[0;34m\u001b[0m\u001b[0;34m\u001b[0m\u001b[0m\n",
      "\u001b[0;31mTypeError\u001b[0m: unsupported operand type(s) for +: 'float' and 'str'"
     ]
    }
   ],
   "source": [
    "x_float = float(input('Digite o valor de X: '))\n",
    "y_float = float(input('Digite o valor de Y: '))\n",
    "\n",
    "operador = input('Digite a forma da operação (+,-,*,/,**,//,%): ')\n",
    "operacao = x_float +operador+ y_float\n",
    "\n",
    "print('O resultado é %s: ' % +operacao)"
   ]
  },
  {
   "cell_type": "code",
   "execution_count": 49,
   "id": "1336c570",
   "metadata": {},
   "outputs": [
    {
     "name": "stdout",
     "output_type": "stream",
     "text": [
      "O resultado é: 6\n"
     ]
    }
   ],
   "source": [
    "teste = 7 - 1\n",
    "print('O resultado é: '+str(teste))\n",
    "#print('O resultado é: '+str(operacao))"
   ]
  },
  {
   "cell_type": "code",
   "execution_count": 75,
   "id": "dda05284",
   "metadata": {},
   "outputs": [
    {
     "name": "stdout",
     "output_type": "stream",
     "text": [
      "Digite o valor de X: 4\n",
      "Escolha a Operação Matemática (+, -, *, /, **, //, %): +\n",
      "Digite o valor de Y: 9\n",
      "Nesta soma \n",
      "O resultado é: 13.0\n"
     ]
    }
   ],
   "source": [
    "x_float = float(input('Digite o valor de X: '))\n",
    "#y_float = float(input('Digite o valor de Y: '))\n",
    "\n",
    "oper = input(\"Escolha a Operação Matemática (+, -, *, /, **, //, %): \")\n",
    "y_float = float(input('Digite o valor de Y: '))\n",
    "for i in range(1, 2):\n",
    "    if oper == \"+\":\n",
    "       print('Nesta soma ') \n",
    "       operacao = x_float+y_float\n",
    "    elif oper == \"-\":\n",
    "       operacao = x_float-y_float\n",
    "#    elif oper == \"*\":\n",
    "#       print (x_float*y_float)\n",
    "    elif oper == \"*\":\n",
    "       operacao = x_float*y_float\n",
    "    elif oper == \"/\":\n",
    "       operacao = x_float/y_float\n",
    "    elif oper == \"**\":\n",
    "       operacao = x_float**y_float\n",
    "    elif oper == \"//\":\n",
    "       operacao = x_float//y_float\n",
    "    elif oper == \"%\":\n",
    "       operacao = x_float%y_float\n",
    "    else:\n",
    "        print('Operação não Suportada')\n",
    "\n",
    "print('O resultado é: ' +str(operacao))"
   ]
  },
  {
   "cell_type": "code",
   "execution_count": null,
   "id": "215a076f",
   "metadata": {},
   "outputs": [],
   "source": []
  },
  {
   "cell_type": "code",
   "execution_count": null,
   "id": "aa080519",
   "metadata": {},
   "outputs": [],
   "source": []
  }
 ],
 "metadata": {
  "kernelspec": {
   "display_name": "Python 3 (ipykernel)",
   "language": "python",
   "name": "python3"
  },
  "language_info": {
   "codemirror_mode": {
    "name": "ipython",
    "version": 3
   },
   "file_extension": ".py",
   "mimetype": "text/x-python",
   "name": "python",
   "nbconvert_exporter": "python",
   "pygments_lexer": "ipython3",
   "version": "3.9.7"
  }
 },
 "nbformat": 4,
 "nbformat_minor": 5
}
