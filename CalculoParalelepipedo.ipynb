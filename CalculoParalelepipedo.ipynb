{
 "cells": [
  {
   "cell_type": "code",
   "execution_count": 5,
   "id": "cb1a0da4",
   "metadata": {},
   "outputs": [
    {
     "name": "stdout",
     "output_type": "stream",
     "text": [
      "Digite a base: 7\n",
      "Digite a altura: 9\n",
      "Digite a largura: 11\n",
      "O resutado do Volume do Paralelepipedo é: 693.0cm³\n"
     ]
    }
   ],
   "source": [
    "base_float = float(input('Digite a base: '))\n",
    "altura_float = float(input('Digite a altura: '))\n",
    "largura_float = float(input('Digite a largura: '))\n",
    "\n",
    "volume = base_float * altura_float * largura_float\n",
    "\n",
    "print('O resutado do Volume do Paralelepipedo é: %scm³' % (volume))"
   ]
  },
  {
   "cell_type": "code",
   "execution_count": null,
   "id": "61edd6ac",
   "metadata": {},
   "outputs": [],
   "source": []
  }
 ],
 "metadata": {
  "kernelspec": {
   "display_name": "Python 3 (ipykernel)",
   "language": "python",
   "name": "python3"
  },
  "language_info": {
   "codemirror_mode": {
    "name": "ipython",
    "version": 3
   },
   "file_extension": ".py",
   "mimetype": "text/x-python",
   "name": "python",
   "nbconvert_exporter": "python",
   "pygments_lexer": "ipython3",
   "version": "3.9.7"
  }
 },
 "nbformat": 4,
 "nbformat_minor": 5
}
