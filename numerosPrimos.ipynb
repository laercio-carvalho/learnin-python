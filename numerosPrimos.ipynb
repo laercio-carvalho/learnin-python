{
 "cells": [
  {
   "cell_type": "code",
   "execution_count": 1,
   "id": "118d6d97",
   "metadata": {},
   "outputs": [
    {
     "name": "stdout",
     "output_type": "stream",
     "text": [
      "2\n",
      "3\n",
      "4\n",
      "5\n",
      "6\n",
      "7\n",
      "8\n",
      "9\n",
      "10\n",
      "11\n",
      "12\n",
      "13\n",
      "14\n",
      "15\n",
      "16\n",
      "17\n",
      "18\n",
      "19\n",
      "20\n",
      "21\n",
      "22\n",
      "23\n",
      "24\n",
      "25\n",
      "26\n",
      "27\n",
      "28\n",
      "29\n",
      "30\n",
      "31\n",
      "32\n",
      "33\n",
      "34\n",
      "35\n",
      "36\n",
      "37\n",
      "38\n",
      "39\n",
      "40\n",
      "41\n",
      "42\n",
      "43\n",
      "44\n",
      "45\n",
      "46\n",
      "47\n",
      "48\n",
      "49\n",
      "50\n",
      "51\n",
      "52\n",
      "53\n",
      "54\n",
      "55\n",
      "56\n",
      "57\n",
      "58\n",
      "59\n",
      "60\n",
      "61\n",
      "62\n",
      "63\n",
      "64\n",
      "65\n",
      "66\n",
      "67\n",
      "68\n",
      "69\n",
      "70\n",
      "71\n",
      "72\n",
      "73\n",
      "74\n",
      "75\n",
      "76\n",
      "77\n",
      "78\n",
      "79\n",
      "80\n",
      "81\n",
      "82\n",
      "83\n",
      "84\n",
      "85\n",
      "86\n",
      "87\n",
      "88\n",
      "89\n",
      "90\n",
      "91\n",
      "92\n",
      "93\n",
      "94\n",
      "95\n",
      "96\n",
      "97\n",
      "98\n",
      "99\n",
      "100\n",
      "Numeros de 0 a 99 impressos com sucesso!\n"
     ]
    }
   ],
   "source": [
    "#Como realmente é\n",
    "x = 2\n",
    "while x < 101:\n",
    "    #x += 1\n",
    "    print(x)\n",
    "    x += 1\n",
    "        if x-1 %  \n",
    "            if x > 100:\n",
    "                print('Numeros de 2 a 100 impressos com sucesso!')\n",
    "                break"
   ]
  },
  {
   "cell_type": "code",
   "execution_count": 4,
   "id": "3c07f554",
   "metadata": {},
   "outputs": [
    {
     "name": "stdout",
     "output_type": "stream",
     "text": [
      "Verificar numeros primos ate: 91\n",
      "Múltiplo de 7\n",
      "Múltiplo de 13\n",
      "Tem 2  múltiplos acima de 2 e abaixo de 91\n"
     ]
    }
   ],
   "source": [
    "n = int(input(\"Verificar numeros primos ate: \"))\n",
    "mult=0\n",
    "\n",
    "for count in range(2,n):\n",
    "    if (n % count == 0):\n",
    "        print(\"Múltiplo de\",count)\n",
    "        mult += 1\n",
    "\n",
    "if(mult==0):\n",
    "    print(\"É primo\")\n",
    "else:\n",
    "    print(\"Tem\",mult,\" múltiplos acima de 2 e abaixo de\",n)"
   ]
  },
  {
   "cell_type": "code",
   "execution_count": 24,
   "id": "45435c61",
   "metadata": {},
   "outputs": [
    {
     "name": "stdout",
     "output_type": "stream",
     "text": [
      "Verificar numeros primos ate: 50\n",
      "Múltiplo de 2\n",
      "Múltiplo de 5\n",
      "Múltiplo de 10\n",
      "Múltiplo de 25\n",
      "Tem 4  múltiplos acima de 2 e abaixo de 50\n"
     ]
    }
   ],
   "source": [
    "n = int(input(\"Verificar numeros primos ate: \"))\n",
    "mult=0\n",
    "\n",
    "for count in range(2,n):\n",
    "    if (n % count == 0):\n",
    "        print(\"Múltiplo de\",count)\n",
    "        #mult += 1\n",
    "        mult += 1\n",
    "\n",
    "if(mult == 0):\n",
    "#if(mult == 0):\n",
    "    #print(cout)\n",
    "    print(\"É primo\")\n",
    "else:\n",
    "    print(\"Tem\",mult,\" múltiplos acima de 2 e abaixo de\",n)"
   ]
  },
  {
   "cell_type": "code",
   "execution_count": 32,
   "id": "6c7159bd",
   "metadata": {},
   "outputs": [],
   "source": [
    "#Como realmente é\n",
    "x = 60\n",
    "count = 2\n",
    "\n",
    "while x < 101:\n",
    "    x += 1\n",
    "    if (x / x==1) and x == count: #count ==0:\n",
    "        print(x)\n",
    "#    x += 1\n",
    "#        if x-1 %  \n",
    "#            if x > 100:\n",
    "#                print('Numeros de 2 a 100 impressos com sucesso!')\n",
    "#                break"
   ]
  },
  {
   "cell_type": "code",
   "execution_count": 38,
   "id": "40799097",
   "metadata": {},
   "outputs": [
    {
     "name": "stdout",
     "output_type": "stream",
     "text": [
      "digite um numero para saber se ele é primo:50\n",
      "O numero 50 é divisivel 2 vezes portanto ele é um numero primo\n",
      "O numero 50 é divisivel 1 vezes, portanto ele não é um nuero primo\n",
      "O numero 50 é divisivel 1 vezes, portanto ele não é um nuero primo\n",
      "O numero 50 é divisivel 3 vezes portanto ele é um numero primo\n",
      "O numero 50 é divisivel 2 vezes, portanto ele não é um nuero primo\n",
      "O numero 50 é divisivel 2 vezes, portanto ele não é um nuero primo\n",
      "O numero 50 é divisivel 2 vezes, portanto ele não é um nuero primo\n",
      "O numero 50 é divisivel 2 vezes, portanto ele não é um nuero primo\n",
      "O numero 50 é divisivel 3 vezes, portanto ele não é um nuero primo\n",
      "O numero 50 é divisivel 3 vezes, portanto ele não é um nuero primo\n",
      "O numero 50 é divisivel 3 vezes, portanto ele não é um nuero primo\n",
      "O numero 50 é divisivel 3 vezes, portanto ele não é um nuero primo\n",
      "O numero 50 é divisivel 3 vezes, portanto ele não é um nuero primo\n",
      "O numero 50 é divisivel 3 vezes, portanto ele não é um nuero primo\n",
      "O numero 50 é divisivel 3 vezes, portanto ele não é um nuero primo\n",
      "O numero 50 é divisivel 3 vezes, portanto ele não é um nuero primo\n",
      "O numero 50 é divisivel 3 vezes, portanto ele não é um nuero primo\n",
      "O numero 50 é divisivel 3 vezes, portanto ele não é um nuero primo\n",
      "O numero 50 é divisivel 3 vezes, portanto ele não é um nuero primo\n",
      "O numero 50 é divisivel 3 vezes, portanto ele não é um nuero primo\n",
      "O numero 50 é divisivel 3 vezes, portanto ele não é um nuero primo\n",
      "O numero 50 é divisivel 3 vezes, portanto ele não é um nuero primo\n",
      "O numero 50 é divisivel 4 vezes, portanto ele não é um nuero primo\n",
      "O numero 50 é divisivel 4 vezes, portanto ele não é um nuero primo\n",
      "O numero 50 é divisivel 4 vezes, portanto ele não é um nuero primo\n",
      "O numero 50 é divisivel 4 vezes, portanto ele não é um nuero primo\n",
      "O numero 50 é divisivel 4 vezes, portanto ele não é um nuero primo\n",
      "O numero 50 é divisivel 4 vezes, portanto ele não é um nuero primo\n",
      "O numero 50 é divisivel 4 vezes, portanto ele não é um nuero primo\n",
      "O numero 50 é divisivel 4 vezes, portanto ele não é um nuero primo\n",
      "O numero 50 é divisivel 4 vezes, portanto ele não é um nuero primo\n",
      "O numero 50 é divisivel 4 vezes, portanto ele não é um nuero primo\n",
      "O numero 50 é divisivel 4 vezes, portanto ele não é um nuero primo\n",
      "O numero 50 é divisivel 4 vezes, portanto ele não é um nuero primo\n",
      "O numero 50 é divisivel 4 vezes, portanto ele não é um nuero primo\n",
      "O numero 50 é divisivel 4 vezes, portanto ele não é um nuero primo\n",
      "O numero 50 é divisivel 4 vezes, portanto ele não é um nuero primo\n",
      "O numero 50 é divisivel 4 vezes, portanto ele não é um nuero primo\n",
      "O numero 50 é divisivel 4 vezes, portanto ele não é um nuero primo\n",
      "O numero 50 é divisivel 4 vezes, portanto ele não é um nuero primo\n",
      "O numero 50 é divisivel 4 vezes, portanto ele não é um nuero primo\n",
      "O numero 50 é divisivel 4 vezes, portanto ele não é um nuero primo\n",
      "O numero 50 é divisivel 4 vezes, portanto ele não é um nuero primo\n",
      "O numero 50 é divisivel 4 vezes, portanto ele não é um nuero primo\n",
      "O numero 50 é divisivel 4 vezes, portanto ele não é um nuero primo\n",
      "O numero 50 é divisivel 4 vezes, portanto ele não é um nuero primo\n"
     ]
    }
   ],
   "source": [
    "n1 = int(input('digite um numero para saber se ele é primo:'))\n",
    "c = 0\n",
    "for i in range(2, n1+1):\n",
    "    if n1 % i== 0:\n",
    "        c = c+1\n",
    "        if c <= 2:\n",
    "            print('O numero {} é divisivel {} vezes portanto ele é um numero primo'.format(n1, c+1))\n",
    "    else:\n",
    "        print('O numero {} é divisivel {} vezes, portanto ele não é um nuero primo'.format(n1,c))"
   ]
  },
  {
   "cell_type": "code",
   "execution_count": 53,
   "id": "f1dd7b7a",
   "metadata": {},
   "outputs": [
    {
     "name": "stdout",
     "output_type": "stream",
     "text": [
      "Verificar se número é primo: 97\n",
      "97\n"
     ]
    }
   ],
   "source": [
    "num = int(input('Verificar se número é primo: '))\n",
    "div = 0\n",
    "\n",
    "for i in range(1, num+1): # Para i em uma distância de 1 a num + 1.\n",
    "    if num % i == 0: # Se houver divisores sem resto, entre neste bloco e adicione +1 na variável div.\n",
    "        div += 1\n",
    "if div == 2: # Ao sair do laço for, verifique se div é igual a 2. (Número divisivel por 1 e por ele mesmo).\n",
    "#    print('Primo')\n",
    "    print(i)\n",
    "else: # Se for maior ou menor que 2, diga que não é primo.\n",
    "    print('Não primo')"
   ]
  },
  {
   "cell_type": "code",
   "execution_count": 55,
   "id": "a1796f97",
   "metadata": {},
   "outputs": [
    {
     "name": "stdout",
     "output_type": "stream",
     "text": [
      "Entre com um número inteiro: 100\n",
      "100 não é primo\n"
     ]
    }
   ],
   "source": [
    "#Com laço for:\n",
    "num = int(input(\"Entre com um número inteiro: \"))\n",
    "for valor in range(2,num):\n",
    "    if num % valor == 0 or num == 1:\n",
    "        print(num,\"não é primo\")\n",
    "        break\n",
    "else:\n",
    "    print(num,\"é primo\")"
   ]
  },
  {
   "cell_type": "code",
   "execution_count": 66,
   "id": "4077d028",
   "metadata": {},
   "outputs": [
    {
     "name": "stdout",
     "output_type": "stream",
     "text": [
      "[2, 3, 5, 7, 11, 13, 17, 19, 23, 29, 31, 37, 41, 43, 47, 53, 59, 61, 67, 71, 73, 79, 83, 89, 97]\n"
     ]
    }
   ],
   "source": [
    "numeros = []\n",
    "def lista(x):\n",
    "    for i in range(1, x+1):\n",
    "        div = 0\n",
    "        for j in range(1, i+1):\n",
    "             if(i%j == 0):\n",
    "                div = div + 1\n",
    "        if (div == 2):\n",
    "             numeros.append(i)\n",
    "    print(numeros)\n",
    "lista(100)"
   ]
  },
  {
   "cell_type": "code",
   "execution_count": 69,
   "id": "dd473fcc",
   "metadata": {},
   "outputs": [
    {
     "name": "stdout",
     "output_type": "stream",
     "text": [
      "2\n",
      "3\n",
      "5\n",
      "7\n",
      "11\n",
      "13\n",
      "17\n",
      "19\n",
      "23\n",
      "29\n",
      "31\n",
      "37\n",
      "41\n",
      "43\n",
      "47\n"
     ]
    }
   ],
   "source": [
    "def primos(x):\n",
    "    for i in range(1, x+1):\n",
    "        div = 0\n",
    "        for j in range(1, i+1):\n",
    "            if(i%j == 0):\n",
    "                div = div + 1\n",
    "        if (div == 2):\n",
    "            print(i)\n",
    "primos(50)"
   ]
  },
  {
   "cell_type": "code",
   "execution_count": 89,
   "id": "c93c35d7",
   "metadata": {},
   "outputs": [
    {
     "name": "stdout",
     "output_type": "stream",
     "text": [
      "2\n",
      "3\n",
      "5\n",
      "7\n",
      "11\n",
      "13\n",
      "17\n",
      "19\n",
      "23\n",
      "29\n",
      "31\n",
      "37\n",
      "41\n",
      "43\n",
      "47\n",
      "53\n",
      "59\n",
      "61\n",
      "67\n",
      "71\n",
      "73\n",
      "79\n",
      "83\n",
      "89\n",
      "97\n",
      "100\n"
     ]
    }
   ],
   "source": [
    "def primos(x):\n",
    "    for i in range(1, x+1):\n",
    "        div = 0\n",
    "        for j in range(1, i+1):\n",
    "            if(i%j == 0):\n",
    "                div = div + 1\n",
    "        if (div == 2):\n",
    "            print(i)\n",
    "primos(100)\n",
    "print('100')"
   ]
  },
  {
   "cell_type": "code",
   "execution_count": 76,
   "id": "5c11e305",
   "metadata": {},
   "outputs": [
    {
     "ename": "NameError",
     "evalue": "name 'choice' is not defined",
     "output_type": "error",
     "traceback": [
      "\u001b[0;31m---------------------------------------------------------------------------\u001b[0m",
      "\u001b[0;31mNameError\u001b[0m                                 Traceback (most recent call last)",
      "\u001b[0;32m/tmp/ipykernel_27439/564614339.py\u001b[0m in \u001b[0;36m<module>\u001b[0;34m\u001b[0m\n\u001b[0;32m----> 1\u001b[0;31m \u001b[0;32mif\u001b[0m \u001b[0mchoice\u001b[0m \u001b[0;34m==\u001b[0m \u001b[0;34m\"n\"\u001b[0m\u001b[0;34m:\u001b[0m\u001b[0;34m\u001b[0m\u001b[0;34m\u001b[0m\u001b[0m\n\u001b[0m\u001b[1;32m      2\u001b[0m         \u001b[0mvalorMaximo\u001b[0m \u001b[0;34m=\u001b[0m \u001b[0mint\u001b[0m\u001b[0;34m(\u001b[0m\u001b[0minput\u001b[0m\u001b[0;34m(\u001b[0m\u001b[0;34m\"Q : \"\u001b[0m\u001b[0;34m)\u001b[0m\u001b[0;34m)\u001b[0m\u001b[0;34m\u001b[0m\u001b[0;34m\u001b[0m\u001b[0m\n\u001b[1;32m      3\u001b[0m         \u001b[0;32mfor\u001b[0m \u001b[0mvalor\u001b[0m \u001b[0;32min\u001b[0m \u001b[0mrange\u001b[0m\u001b[0;34m(\u001b[0m\u001b[0;36m1\u001b[0m\u001b[0;34m,\u001b[0m\u001b[0;34m(\u001b[0m\u001b[0mvalorMaximo\u001b[0m\u001b[0;34m+\u001b[0m\u001b[0;36m1\u001b[0m\u001b[0;34m)\u001b[0m\u001b[0;34m)\u001b[0m\u001b[0;34m:\u001b[0m\u001b[0;34m\u001b[0m\u001b[0;34m\u001b[0m\u001b[0m\n\u001b[1;32m      4\u001b[0m             \u001b[0mcheck\u001b[0m \u001b[0;34m=\u001b[0m \u001b[0;36m2\u001b[0m\u001b[0;34m\u001b[0m\u001b[0;34m\u001b[0m\u001b[0m\n\u001b[1;32m      5\u001b[0m             \u001b[0mresto\u001b[0m \u001b[0;34m=\u001b[0m \u001b[0;36m0.1\u001b[0m\u001b[0;34m\u001b[0m\u001b[0;34m\u001b[0m\u001b[0m\n",
      "\u001b[0;31mNameError\u001b[0m: name 'choice' is not defined"
     ]
    }
   ],
   "source": [
    "if choice == \"n\":\n",
    "        valorMaximo = int(input(\"Q : \"))\n",
    "        for valor in range(1,(valorMaximo+1)):\n",
    "            check = 2\n",
    "            resto = 0.1 \n",
    "            while check < ((valor/2)+1) and resto > 0:\n",
    "                resto = valor % check\n",
    "                check += 1\n",
    "            if resto is not 0:\n",
    "                print(valor)"
   ]
  },
  {
   "cell_type": "code",
   "execution_count": 83,
   "id": "c340ae4e",
   "metadata": {},
   "outputs": [
    {
     "name": "stdout",
     "output_type": "stream",
     "text": [
      "3 is a prime number\n",
      "5 is a prime number\n",
      "5 is a prime number\n",
      "5 is a prime number\n",
      "7 is a prime number\n",
      "7 is a prime number\n",
      "7 is a prime number\n",
      "7 is a prime number\n",
      "7 is a prime number\n",
      "9 is a prime number\n"
     ]
    }
   ],
   "source": [
    "for n in range(2, 10):\n",
    "    for x in range(2, n):\n",
    "        if n % x == 0:\n",
    "            #print(n, 'equals', x, '*', n//x)\n",
    "            break\n",
    "        else:\n",
    "# loop fell through without finding a factor\n",
    "             print(n, 'is a prime number')\n"
   ]
  },
  {
   "cell_type": "code",
   "execution_count": null,
   "id": "58ec9082",
   "metadata": {},
   "outputs": [],
   "source": []
  }
 ],
 "metadata": {
  "kernelspec": {
   "display_name": "Python 3 (ipykernel)",
   "language": "python",
   "name": "python3"
  },
  "language_info": {
   "codemirror_mode": {
    "name": "ipython",
    "version": 3
   },
   "file_extension": ".py",
   "mimetype": "text/x-python",
   "name": "python",
   "nbconvert_exporter": "python",
   "pygments_lexer": "ipython3",
   "version": "3.9.7"
  }
 },
 "nbformat": 4,
 "nbformat_minor": 5
}
