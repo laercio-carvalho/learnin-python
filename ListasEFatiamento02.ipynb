{
 "cells": [
  {
   "cell_type": "code",
   "execution_count": 12,
   "id": "17fbcf4f",
   "metadata": {},
   "outputs": [],
   "source": [
    "#Add item caso ele não esteja na lista\n",
    "item = 'farinha'\n",
    "limite = 10\n",
    "compras = ['goma', 'macarrão', 'feijão']"
   ]
  },
  {
   "cell_type": "code",
   "execution_count": 11,
   "id": "21278881",
   "metadata": {},
   "outputs": [
    {
     "name": "stdout",
     "output_type": "stream",
     "text": [
      "['goma', 'macarrão', 'feijão']\n",
      "['goma', 'macarrão', 'feijão', 'farinha']\n"
     ]
    }
   ],
   "source": [
    "#Adicionar valor de 'Item' caso ela não esteja na lista de compras\n",
    "print(compras)\n",
    "if not (item in compras):\n",
    "    compras.append(item)\n",
    "    print(compras)"
   ]
  },
  {
   "cell_type": "code",
   "execution_count": 13,
   "id": "aeda883e",
   "metadata": {},
   "outputs": [
    {
     "name": "stdout",
     "output_type": "stream",
     "text": [
      "['goma', 'macarrão', 'feijão']\n",
      "['goma', 'macarrão', 'feijão', 'farinha']\n"
     ]
    }
   ],
   "source": [
    "#Add farinha no final da celula\n",
    "print(compras)\n",
    "if compras.count(item) < limite:\n",
    "    compras.append(item)\n",
    "    print(compras)"
   ]
  },
  {
   "cell_type": "code",
   "execution_count": 14,
   "id": "72269b5c",
   "metadata": {},
   "outputs": [
    {
     "name": "stdout",
     "output_type": "stream",
     "text": [
      "['goma', 'macarrão', 'feijão', 'farinha']\n",
      "['goma', 'macarrão', 'feijão', 'farinha integral']\n"
     ]
    }
   ],
   "source": [
    "#Substituindo Farinha por Farinha integral\n",
    "print(compras)\n",
    "posicao = compras.index('farinha')\n",
    "compras[posicao] = 'farinha integral'\n",
    "print(compras)"
   ]
  },
  {
   "cell_type": "code",
   "execution_count": null,
   "id": "3c7938e3",
   "metadata": {},
   "outputs": [],
   "source": [
    "#Aqui é pra substituição de todas as farinhas por farinha integral\n",
    "while 'farinha' in compras:\n",
    "    posicao = compras.index('farinha')\n",
    "    compras[posicao] = 'farinha integral'"
   ]
  },
  {
   "cell_type": "code",
   "execution_count": 1,
   "id": "473495a6",
   "metadata": {},
   "outputs": [],
   "source": [
    "#Entrada de dados\n",
    "notas = [7.3, 4.5, 6.7, 5.2, 8.4, 1.2, 9.4]"
   ]
  },
  {
   "cell_type": "code",
   "execution_count": 2,
   "id": "841347d8",
   "metadata": {},
   "outputs": [
    {
     "name": "stdout",
     "output_type": "stream",
     "text": [
      "[7.3, 4.5, 6.7, 5.2, 8.4, 1.2, 9.4]\n",
      "[1.2, 4.5, 5.2, 6.7, 7.3, 8.4, 9.4] [6.7, 7.3, 8.4, 9.4] 7.949999999999999\n"
     ]
    }
   ],
   "source": [
    "#Ordenando as notas\n",
    "print(notas)\n",
    "notas.sort()\n",
    "notas_uteis = notas[3:]\n",
    "nota_final = sum(notas_uteis) / len(notas_uteis)\n",
    "print(notas, notas_uteis, nota_final)\n"
   ]
  },
  {
   "cell_type": "code",
   "execution_count": 3,
   "id": "af400ccd",
   "metadata": {},
   "outputs": [
    {
     "name": "stdout",
     "output_type": "stream",
     "text": [
      "6.42 [4.5, 5.2, 6.7, 7.3, 8.4]\n"
     ]
    }
   ],
   "source": [
    "notas_uteis = sorted(notas)\n",
    "del notas_uteis[0]\n",
    "del notas_uteis[-1]\n",
    "nota_final = sum(notas_uteis) / len(notas_uteis)\n",
    "print(nota_final, notas_uteis)"
   ]
  },
  {
   "cell_type": "code",
   "execution_count": null,
   "id": "c21484f8",
   "metadata": {},
   "outputs": [],
   "source": []
  }
 ],
 "metadata": {
  "kernelspec": {
   "display_name": "Python 3 (ipykernel)",
   "language": "python",
   "name": "python3"
  },
  "language_info": {
   "codemirror_mode": {
    "name": "ipython",
    "version": 3
   },
   "file_extension": ".py",
   "mimetype": "text/x-python",
   "name": "python",
   "nbconvert_exporter": "python",
   "pygments_lexer": "ipython3",
   "version": "3.9.7"
  }
 },
 "nbformat": 4,
 "nbformat_minor": 5
}
