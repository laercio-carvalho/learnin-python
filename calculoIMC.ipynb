{
 "cells": [
  {
   "cell_type": "code",
   "execution_count": 2,
   "id": "29edf51d",
   "metadata": {},
   "outputs": [
    {
     "name": "stdout",
     "output_type": "stream",
     "text": [
      "Digite o seu peso: 110.5\n",
      "Digite a sua altura: 1.87\n",
      "O resutado do seu IMC é :31.59941662615459\n"
     ]
    }
   ],
   "source": [
    "peso_float = float(input('Digite o seu peso: '))\n",
    "altura_float = float(input('Digite a sua altura: '))\n",
    "altura_ao_quadrado = altura_float * altura_float\n",
    "imc = peso_float / altura_ao_quadrado\n",
    "print('O resutado do seu IMC é :'+str(imc))"
   ]
  },
  {
   "cell_type": "code",
   "execution_count": null,
   "id": "3d5980bc",
   "metadata": {},
   "outputs": [],
   "source": []
  },
  {
   "cell_type": "code",
   "execution_count": null,
   "id": "8cf5c4e8",
   "metadata": {},
   "outputs": [],
   "source": [
    "nuinput()"
   ]
  }
 ],
 "metadata": {
  "kernelspec": {
   "display_name": "Python 3 (ipykernel)",
   "language": "python",
   "name": "python3"
  },
  "language_info": {
   "codemirror_mode": {
    "name": "ipython",
    "version": 3
   },
   "file_extension": ".py",
   "mimetype": "text/x-python",
   "name": "python",
   "nbconvert_exporter": "python",
   "pygments_lexer": "ipython3",
   "version": "3.9.7"
  }
 },
 "nbformat": 4,
 "nbformat_minor": 5
}
