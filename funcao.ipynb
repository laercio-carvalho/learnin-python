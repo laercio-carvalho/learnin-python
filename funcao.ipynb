{
 "cells": [
  {
   "cell_type": "code",
   "execution_count": 35,
   "id": "089baf36",
   "metadata": {},
   "outputs": [],
   "source": [
    "#Entrada de dados de uma função\n",
    "def f(x):\n",
    "    valor= 5 * x **2\n",
    "    return valor"
   ]
  },
  {
   "cell_type": "code",
   "execution_count": 33,
   "id": "095481dc",
   "metadata": {},
   "outputs": [
    {
     "name": "stdout",
     "output_type": "stream",
     "text": [
      "45\n"
     ]
    }
   ],
   "source": [
    "print(f(3))"
   ]
  },
  {
   "cell_type": "code",
   "execution_count": 38,
   "id": "6c40473f",
   "metadata": {},
   "outputs": [
    {
     "name": "stdout",
     "output_type": "stream",
     "text": [
      "f(1) é 5\n",
      "f(2) é 20\n",
      "f(3) é 45\n"
     ]
    }
   ],
   "source": [
    "for i in range(1, 4):\n",
    "    res= f(i)\n",
    "    print('f({}) é {}'.format(i, res))\n"
   ]
  },
  {
   "cell_type": "code",
   "execution_count": 39,
   "id": "4b167617",
   "metadata": {},
   "outputs": [],
   "source": [
    "#Entrada de dados\n",
    "def media(notas):\n",
    "    return sum(notas) / len(notas)"
   ]
  },
  {
   "cell_type": "code",
   "execution_count": 40,
   "id": "a101a681",
   "metadata": {},
   "outputs": [
    {
     "data": {
      "text/plain": [
       "9.0"
      ]
     },
     "execution_count": 40,
     "metadata": {},
     "output_type": "execute_result"
    }
   ],
   "source": [
    "media([10, 7.5, 9.5])"
   ]
  },
  {
   "cell_type": "code",
   "execution_count": 41,
   "id": "36a1e825",
   "metadata": {},
   "outputs": [
    {
     "data": {
      "text/plain": [
       "2.5"
      ]
     },
     "execution_count": 41,
     "metadata": {},
     "output_type": "execute_result"
    }
   ],
   "source": [
    "media({1, 2, 3, 4})"
   ]
  },
  {
   "cell_type": "code",
   "execution_count": null,
   "id": "63da7fd5",
   "metadata": {},
   "outputs": [],
   "source": []
  }
 ],
 "metadata": {
  "kernelspec": {
   "display_name": "Python 3 (ipykernel)",
   "language": "python",
   "name": "python3"
  },
  "language_info": {
   "codemirror_mode": {
    "name": "ipython",
    "version": 3
   },
   "file_extension": ".py",
   "mimetype": "text/x-python",
   "name": "python",
   "nbconvert_exporter": "python",
   "pygments_lexer": "ipython3",
   "version": "3.9.7"
  }
 },
 "nbformat": 4,
 "nbformat_minor": 5
}
