{
 "cells": [
  {
   "cell_type": "code",
   "execution_count": 22,
   "id": "a4f40a01",
   "metadata": {},
   "outputs": [],
   "source": [
    "#Listas\n",
    "animais = ['gato', 'ouriço', 'pardal', 'camaleão']\n",
    "gastos = [10.15, 32.55, 23.49]\n",
    "vazia = []"
   ]
  },
  {
   "cell_type": "code",
   "execution_count": 23,
   "id": "1632b2df",
   "metadata": {},
   "outputs": [],
   "source": [
    "animais = [\n",
    "    'gato',\n",
    "    'ouriço',\n",
    "    'pardal',\n",
    "    'camaleão'\n",
    "]"
   ]
  },
  {
   "cell_type": "code",
   "execution_count": 24,
   "id": "3765dcf6",
   "metadata": {},
   "outputs": [
    {
     "name": "stdout",
     "output_type": "stream",
     "text": [
      "4 3 0\n"
     ]
    }
   ],
   "source": [
    "#Imprimir e contar seus elementos manualmente com a função LEN\n",
    "print(len(animais), len(gastos), len(vazia))"
   ]
  },
  {
   "cell_type": "code",
   "execution_count": 7,
   "id": "2225f016",
   "metadata": {},
   "outputs": [
    {
     "data": {
      "text/plain": [
       "66.19"
      ]
     },
     "execution_count": 7,
     "metadata": {},
     "output_type": "execute_result"
    }
   ],
   "source": [
    "#gastos = [gasto_1, gasto_2, gasto_3]\n",
    "sum(gastos)"
   ]
  },
  {
   "cell_type": "code",
   "execution_count": 19,
   "id": "f8f60735",
   "metadata": {},
   "outputs": [],
   "source": [
    "#Lista para atribuição inicial de valores\n",
    "gastos = [23.5, 45.6, 5.24, 2.36, 99.49]"
   ]
  },
  {
   "cell_type": "code",
   "execution_count": 20,
   "id": "de445db7",
   "metadata": {},
   "outputs": [],
   "source": [
    "#Atribuindo novos valores nas respectivas celulas\n",
    "gastos[2] = 3.29\n",
    "gastos[-2] = 1.75"
   ]
  },
  {
   "cell_type": "code",
   "execution_count": 21,
   "id": "9c9d2d5f",
   "metadata": {},
   "outputs": [
    {
     "name": "stdout",
     "output_type": "stream",
     "text": [
      "[23.5, 45.6, 3.29, 1.75, 99.49]\n",
      "[1.75, 3.29, 23.5, 45.6, 99.49]\n"
     ]
    }
   ],
   "source": [
    "#teste de atribuição de valores\n",
    "print(gastos)\n",
    "#ordenando os valores de forma crescente \n",
    "gastos.sort()\n",
    "#E exibindo\n",
    "print(gastos)"
   ]
  },
  {
   "cell_type": "code",
   "execution_count": 17,
   "id": "6278d7d5",
   "metadata": {},
   "outputs": [
    {
     "name": "stdout",
     "output_type": "stream",
     "text": [
      "5 [23.5, 45.6, 3.29, 1.75, 99.49]\n",
      "4 [23.5, 3.29, 1.75, 99.49]\n"
     ]
    }
   ],
   "source": [
    "#Deletando Valores\n",
    "print(len(gastos), gastos)\n",
    "del gastos[1]\n",
    "print(len(gastos), gastos)"
   ]
  },
  {
   "cell_type": "code",
   "execution_count": 24,
   "id": "62e9c70b",
   "metadata": {},
   "outputs": [
    {
     "name": "stdout",
     "output_type": "stream",
     "text": [
      "5 [23.5, 45.6, 3.29, 1.75, 99.49]\n",
      "6 [23.5, 45.6, 77.7, 3.29, 1.75, 99.49]\n"
     ]
    }
   ],
   "source": [
    "#inserindo valores\n",
    "print(len(gastos), gastos)\n",
    "gastos.insert(2, 77.7)\n",
    "print(len(gastos), gastos)"
   ]
  },
  {
   "cell_type": "code",
   "execution_count": 29,
   "id": "2bcabffc",
   "metadata": {},
   "outputs": [],
   "source": [
    "#Entrada de dados para teste de fatiamento\n",
    "numeros = [0, 10, 20, 30, 40, 50, 60, 70, 80, 90, 100]"
   ]
  },
  {
   "cell_type": "code",
   "execution_count": 30,
   "id": "91856833",
   "metadata": {},
   "outputs": [
    {
     "name": "stdout",
     "output_type": "stream",
     "text": [
      "[20, 30, 40]\n",
      "[50, 60, 70, 80, 90, 100]\n",
      "[30, 50, 70]\n",
      "[0, 30, 60, 90]\n",
      "[100, 90, 80, 70, 60, 50, 40, 30, 20, 10, 0]\n",
      "[0, 10, 20, 30, 40, 50, 60, 70, 80, 90, 100]\n",
      "[]\n"
     ]
    }
   ],
   "source": [
    "#Imprimindo da Terceira posição até a Quinta\n",
    "print(numeros[2:5])\n",
    "#Da sexta até a Décima\n",
    "print(numeros[5:11])\n",
    "#Da Quarta até a Nona de dois em dois\n",
    "print(numeros[3:8:2])\n",
    "#de 3 em 3 contando com a primeira\n",
    "print(numeros[::3])\n",
    "#Celulas da Direita para a esquerda\n",
    "print(numeros[::-1])\n",
    "#Celulas da Esquerda para a Direita\n",
    "print(numeros[::1])\n",
    "\n",
    "print(numeros[4:4])"
   ]
  },
  {
   "cell_type": "code",
   "execution_count": 25,
   "id": "82a3f240",
   "metadata": {},
   "outputs": [],
   "source": [
    "#Entrada de dados para concatenação\n",
    "compras1 = ['manteiga', 'aveia', 'sabao em pó']\n",
    "compras2 = ['detergente', 'carvao', 'arroz']\n",
    "valores1 = [12.0, 2.8, 5.4]\n",
    "valores2 = [25.0, 9.3, 7.3]"
   ]
  },
  {
   "cell_type": "code",
   "execution_count": 28,
   "id": "fa9eb6eb",
   "metadata": {},
   "outputs": [
    {
     "name": "stdout",
     "output_type": "stream",
     "text": [
      "['manteiga', 'aveia', 'sabao em pó', 'detergente', 'carvao', 'arroz']\n",
      "[12.0, 2.8, 5.4, 25.0, 9.3, 7.3]\n"
     ]
    }
   ],
   "source": [
    "print(compras1+compras2)\n",
    "print(valores1+valores2)"
   ]
  },
  {
   "cell_type": "code",
   "execution_count": 37,
   "id": "132600bc",
   "metadata": {},
   "outputs": [],
   "source": [
    "#Entrada de dados\n",
    "casas_pares = [216, 220, 222, 268, 270]"
   ]
  },
  {
   "cell_type": "code",
   "execution_count": 38,
   "id": "390bbd5e",
   "metadata": {},
   "outputs": [
    {
     "name": "stdout",
     "output_type": "stream",
     "text": [
      "[216, 220, 222, 268, 270]\n",
      "[216, 220, 222, 232, 240, 252, 268, 270]\n"
     ]
    }
   ],
   "source": [
    "#Adicionando 3 numeros da Quarta posição em diante\n",
    "print(casas_pares)\n",
    "casas_pares = casas_pares[:3] + [232, 240, 252] + casas_pares[3:]\n",
    "print(casas_pares)\n"
   ]
  },
  {
   "cell_type": "code",
   "execution_count": 66,
   "id": "735946b3",
   "metadata": {},
   "outputs": [],
   "source": [
    "cursos = [\n",
    "  'Engenharia de Software',\n",
    "  'Python para Data Science',\n",
    "  'Introdução a Java'\n",
    "]\n",
    "respostas = [1, 2, 0, 1, 1, 1, 1, 0, 0, 2, 2, 0, 1, 1,\n",
    "  1, 1, 2, 0, 1, 1, 0, 1, 0, 2, 1, 1, 0, 2,\n",
    "  2, 1, 0, 1, 1, 0, 0, 0, 1, 1, 2, 1\n",
    "]"
   ]
  },
  {
   "cell_type": "code",
   "execution_count": 67,
   "id": "0c03341c",
   "metadata": {},
   "outputs": [
    {
     "name": "stdout",
     "output_type": "stream",
     "text": [
      "Temos  12 Engenharia de Software\n",
      "Temos  20 Python para Data Science\n",
      "Temos  8 Introdução a Java\n"
     ]
    }
   ],
   "source": [
    "#respostas.sort()\n",
    "print('Temos ', respostas.count(0), cursos[0])\n",
    "\n",
    "print('Temos ', respostas.count(1), cursos[1])\n",
    "\n",
    "print('Temos ', respostas.count(2), cursos[2])"
   ]
  },
  {
   "cell_type": "code",
   "execution_count": null,
   "id": "ec209699",
   "metadata": {},
   "outputs": [],
   "source": []
  },
  {
   "cell_type": "code",
   "execution_count": null,
   "id": "152f945d",
   "metadata": {},
   "outputs": [],
   "source": []
  }
 ],
 "metadata": {
  "kernelspec": {
   "display_name": "Python 3 (ipykernel)",
   "language": "python",
   "name": "python3"
  },
  "language_info": {
   "codemirror_mode": {
    "name": "ipython",
    "version": 3
   },
   "file_extension": ".py",
   "mimetype": "text/x-python",
   "name": "python",
   "nbconvert_exporter": "python",
   "pygments_lexer": "ipython3",
   "version": "3.9.7"
  }
 },
 "nbformat": 4,
 "nbformat_minor": 5
}
