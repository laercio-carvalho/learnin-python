{
 "cells": [
  {
   "cell_type": "code",
   "execution_count": 1,
   "id": "9e01b491",
   "metadata": {},
   "outputs": [],
   "source": [
    "mult_2 = {0, 2, 4, 6, 8, 10, 12}\n",
    "mult_3 = {0, 3, 6, 9, 12}"
   ]
  },
  {
   "cell_type": "code",
   "execution_count": 7,
   "id": "164c1249",
   "metadata": {
    "scrolled": true
   },
   "outputs": [
    {
     "data": {
      "text/plain": [
       "{0, 2, 3, 4, 6, 8, 9, 10, 12}"
      ]
     },
     "execution_count": 7,
     "metadata": {},
     "output_type": "execute_result"
    }
   ],
   "source": [
    "#União\n",
    "#print(mult_2 | mult_3)\n",
    "mult_2.union(mult_3)"
   ]
  },
  {
   "cell_type": "code",
   "execution_count": 11,
   "id": "f1a07bba",
   "metadata": {},
   "outputs": [
    {
     "data": {
      "text/plain": [
       "{0, 6, 12}"
      ]
     },
     "execution_count": 11,
     "metadata": {},
     "output_type": "execute_result"
    }
   ],
   "source": [
    "#Intersessão multiplos de 2 e 3\n",
    "#mult_2 & mult_3\n",
    "mult_2.intersection(mult_3)"
   ]
  },
  {
   "cell_type": "code",
   "execution_count": 12,
   "id": "df7aec6e",
   "metadata": {},
   "outputs": [
    {
     "data": {
      "text/plain": [
       "{2, 4, 8, 10}"
      ]
     },
     "execution_count": 12,
     "metadata": {},
     "output_type": "execute_result"
    }
   ],
   "source": [
    "#Diferença - Multiplos de 2 mas nao de 3\n",
    "#mult_2 - mult_3\n",
    "mult_2.difference(mult_3)"
   ]
  },
  {
   "cell_type": "code",
   "execution_count": 14,
   "id": "a9021ba7",
   "metadata": {},
   "outputs": [
    {
     "data": {
      "text/plain": [
       "{3, 9}"
      ]
     },
     "execution_count": 14,
     "metadata": {},
     "output_type": "execute_result"
    }
   ],
   "source": [
    "#Diferença - Multiplos de 3 mas não de 2\n",
    "mult_3.difference(mult_2)\n",
    "#mult_3 - mult_2\n"
   ]
  },
  {
   "cell_type": "code",
   "execution_count": 15,
   "id": "e99fedd4",
   "metadata": {},
   "outputs": [],
   "source": [
    "#Entrada de subConjunto\n",
    "pares_ate10 = {0, 2, 4, 6, 8, 10}\n",
    "ate10 = {0, 1, 2, 3, 4, 5, 6, 7, 8, 9, 10}"
   ]
  },
  {
   "cell_type": "code",
   "execution_count": 16,
   "id": "091dd154",
   "metadata": {},
   "outputs": [
    {
     "data": {
      "text/plain": [
       "True"
      ]
     },
     "execution_count": 16,
     "metadata": {},
     "output_type": "execute_result"
    }
   ],
   "source": [
    "#Pra saber se os numeros pares até 10 estão contidos, ou sejam, fazem parte do subconjunto, de até 10\n",
    "pares_ate10 <= ate10"
   ]
  },
  {
   "cell_type": "code",
   "execution_count": 17,
   "id": "cd44846a",
   "metadata": {},
   "outputs": [
    {
     "data": {
      "text/plain": [
       "True"
      ]
     },
     "execution_count": 17,
     "metadata": {},
     "output_type": "execute_result"
    }
   ],
   "source": [
    "#Nesse caso o ate10 é SUPERCONJUNTO de pares_ate10\n",
    "pares_ate10 <= ate10 and pares_ate10 != ate10"
   ]
  },
  {
   "cell_type": "code",
   "execution_count": 18,
   "id": "2f7ee6fa",
   "metadata": {},
   "outputs": [
    {
     "data": {
      "text/plain": [
       "True"
      ]
     },
     "execution_count": 18,
     "metadata": {},
     "output_type": "execute_result"
    }
   ],
   "source": [
    "pares_ate10 < ate10"
   ]
  },
  {
   "cell_type": "code",
   "execution_count": 21,
   "id": "fdd678ee",
   "metadata": {},
   "outputs": [],
   "source": [
    "#Modelos iniciais no conjunto\n",
    "modelos = {'clio', 'gol', 'palio', 'prisma'}\n",
    "print(modelos)"
   ]
  },
  {
   "cell_type": "code",
   "execution_count": null,
   "id": "6654ea4e",
   "metadata": {},
   "outputs": [],
   "source": [
    "#Adicionar Fox ao Conjunto\n",
    "modelos.add('fox')\n",
    "print(modelos)"
   ]
  },
  {
   "cell_type": "code",
   "execution_count": 28,
   "id": "a0128bbe",
   "metadata": {},
   "outputs": [
    {
     "name": "stdout",
     "output_type": "stream",
     "text": [
      "{'gol', 'kwid', 'duster', 'clio', 'prisma', 'fox', 'palio'}\n"
     ]
    }
   ],
   "source": [
    "#Adicionar vários modelos de uma vez ao conjunto\n",
    "modelos.update({'fox', 'duster', 'kwid'})\n",
    "print(modelos)"
   ]
  },
  {
   "cell_type": "code",
   "execution_count": 29,
   "id": "8b3ce9b4",
   "metadata": {},
   "outputs": [
    {
     "name": "stdout",
     "output_type": "stream",
     "text": [
      "{'kwid', 'duster', 'clio', 'prisma', 'fox', 'palio'}\n"
     ]
    }
   ],
   "source": [
    "#Removendo o Gol\n",
    "modelos.discard('gol')\n",
    "print(modelos)"
   ]
  },
  {
   "cell_type": "code",
   "execution_count": 35,
   "id": "bd8d0b54",
   "metadata": {},
   "outputs": [],
   "source": [
    "animais = {'onça', 'arara-azul', 'lobo guará', 'seriema'}"
   ]
  },
  {
   "cell_type": "code",
   "execution_count": 36,
   "id": "6de282d7",
   "metadata": {},
   "outputs": [
    {
     "data": {
      "text/plain": [
       "{'arara-azul', 'lobo guará', 'onça', 'seriema'}"
      ]
     },
     "execution_count": 36,
     "metadata": {},
     "output_type": "execute_result"
    }
   ],
   "source": [
    "animais.copy()"
   ]
  },
  {
   "cell_type": "code",
   "execution_count": 33,
   "id": "f95f24c5",
   "metadata": {},
   "outputs": [],
   "source": [
    "animais.clear()"
   ]
  },
  {
   "cell_type": "code",
   "execution_count": 34,
   "id": "755c30cb",
   "metadata": {},
   "outputs": [
    {
     "name": "stdout",
     "output_type": "stream",
     "text": [
      "set()\n"
     ]
    }
   ],
   "source": [
    "print(animais)"
   ]
  },
  {
   "cell_type": "code",
   "execution_count": 37,
   "id": "7e957940",
   "metadata": {},
   "outputs": [
    {
     "data": {
      "text/plain": [
       "['arara-azul', 'lobo guará', 'onça', 'seriema']"
      ]
     },
     "execution_count": 37,
     "metadata": {},
     "output_type": "execute_result"
    }
   ],
   "source": [
    "sorted(animais)"
   ]
  },
  {
   "cell_type": "code",
   "execution_count": 38,
   "id": "51ca11d0",
   "metadata": {},
   "outputs": [],
   "source": [
    "tamanhos = {300, 180, 200, 320, 200, 300}"
   ]
  },
  {
   "cell_type": "code",
   "execution_count": 39,
   "id": "678627e3",
   "metadata": {},
   "outputs": [
    {
     "name": "stdout",
     "output_type": "stream",
     "text": [
      "{200, 320, 180, 300}\n"
     ]
    }
   ],
   "source": [
    "print(tamanhos)"
   ]
  },
  {
   "cell_type": "code",
   "execution_count": 40,
   "id": "7083b8b7",
   "metadata": {},
   "outputs": [],
   "source": [
    "#Considere\n",
    "multiplos_2 = {0, 2, 4, 6, 8, 10, 12, 14, 16, 18, 20}\n",
    "\n",
    "multiplos_3 = {0, 3, 6, 9, 12, 15, 18}\n",
    "\n",
    "multiplos_5 = {0, 5, 10, 15, 20}\n",
    "\n",
    "multiplos_10 = {0, 10, 20}"
   ]
  },
  {
   "cell_type": "code",
   "execution_count": 41,
   "id": "e016650b",
   "metadata": {},
   "outputs": [
    {
     "data": {
      "text/plain": [
       "True"
      ]
     },
     "execution_count": 41,
     "metadata": {},
     "output_type": "execute_result"
    }
   ],
   "source": [
    "multiplos_2 - multiplos_5 != multiplos_5 - multiplos_2"
   ]
  },
  {
   "cell_type": "code",
   "execution_count": null,
   "id": "74922588",
   "metadata": {},
   "outputs": [],
   "source": []
  },
  {
   "cell_type": "code",
   "execution_count": 46,
   "id": "a542757e",
   "metadata": {},
   "outputs": [
    {
     "name": "stdout",
     "output_type": "stream",
     "text": [
      "['ararajuba', 'camaleão', 'jaguatirica', 'lobo guará', 'macaco prego']\n"
     ]
    }
   ],
   "source": [
    "#Considere\n",
    "animais = {'onça', 'jaguatirica', 'lobo guará'}\n",
    "\n",
    "animais.add('ararajuba')\n",
    "\n",
    "animais.discard('tatu')\n",
    "\n",
    "animais.update({'onça', 'macaco prego', 'camaleão'})\n",
    "\n",
    "animais.remove('onça')\n",
    "\n",
    "print(sorted(animais))"
   ]
  },
  {
   "cell_type": "code",
   "execution_count": null,
   "id": "9a193601",
   "metadata": {},
   "outputs": [],
   "source": []
  },
  {
   "cell_type": "code",
   "execution_count": null,
   "id": "5a366b37",
   "metadata": {},
   "outputs": [],
   "source": []
  }
 ],
 "metadata": {
  "kernelspec": {
   "display_name": "Python 3 (ipykernel)",
   "language": "python",
   "name": "python3"
  },
  "language_info": {
   "codemirror_mode": {
    "name": "ipython",
    "version": 3
   },
   "file_extension": ".py",
   "mimetype": "text/x-python",
   "name": "python",
   "nbconvert_exporter": "python",
   "pygments_lexer": "ipython3",
   "version": "3.9.7"
  }
 },
 "nbformat": 4,
 "nbformat_minor": 5
}
