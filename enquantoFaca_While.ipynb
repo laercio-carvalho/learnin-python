{
 "cells": [
  {
   "cell_type": "code",
   "execution_count": 2,
   "id": "f0ab464c",
   "metadata": {},
   "outputs": [
    {
     "name": "stdout",
     "output_type": "stream",
     "text": [
      "Digite um número qualquer: 8\n",
      "Você digitou um número par! Vou pedir que você digite outro número.\n",
      "Digite um número qualquer: 10\n",
      "Você digitou um número par! Vou pedir que você digite outro número.\n",
      "Digite um número qualquer: 9\n",
      "Parabéns, você digitou um número ímpar! Agora o programa vai seguir ...\n"
     ]
    }
   ],
   "source": [
    "#Enquanto-Faça\n",
    "numero = int(input('Digite um número qualquer: '))\n",
    "while numero % 2 == 0 : # enquanto número for par, continue pedindo mais números\n",
    "    print('Você digitou um número par! Vou pedir que você digite outro número.')\n",
    "    numero = int(input('Digite um número qualquer: '))\n",
    "print('Parabéns, você digitou um número ímpar! Agora o programa vai seguir ...')"
   ]
  },
  {
   "cell_type": "code",
   "execution_count": 7,
   "id": "5a13ba57",
   "metadata": {},
   "outputs": [
    {
     "name": "stdout",
     "output_type": "stream",
     "text": [
      "Digite um número qualquer: 87\n",
      "Fim do programa ou você digitou um número ímpar! Agora o programa vai seguir ...\n"
     ]
    }
   ],
   "source": [
    "#Enquanto-Faça (Minha pratica)\n",
    "numero = int(input('Digite um número qualquer: '))\n",
    "while numero % 2 == 0 and numero > 0:# enquanto número for par, continue pedindo mais números\n",
    "    print(numero)\n",
    "    numero -= 2\n",
    "#    numero = int(input('Digite um número qualquer: '))\n",
    "print('Fim do programa ou você digitou um número ímpar! Agora o programa vai seguir ...')"
   ]
  },
  {
   "cell_type": "code",
   "execution_count": null,
   "id": "de501c0a",
   "metadata": {},
   "outputs": [],
   "source": []
  }
 ],
 "metadata": {
  "kernelspec": {
   "display_name": "Python 3 (ipykernel)",
   "language": "python",
   "name": "python3"
  },
  "language_info": {
   "codemirror_mode": {
    "name": "ipython",
    "version": 3
   },
   "file_extension": ".py",
   "mimetype": "text/x-python",
   "name": "python",
   "nbconvert_exporter": "python",
   "pygments_lexer": "ipython3",
   "version": "3.9.7"
  }
 },
 "nbformat": 4,
 "nbformat_minor": 5
}
