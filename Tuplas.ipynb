{
 "cells": [
  {
   "cell_type": "code",
   "execution_count": 10,
   "id": "d848ff13",
   "metadata": {},
   "outputs": [],
   "source": [
    "#Entrada de dados - Cálculo\n",
    "retangulo = (5, 7)\n",
    "tupla_vazia = ()\n",
    "mochila = ('caderno', )\n",
    "notas = (6.5, 7.8, 10.0, 9.1)\n",
    "paralelepipedo = (4, 6, 3)\n",
    "altura = paralelepipedo[0]\n",
    "largura = paralelepipedo[1]\n",
    "comprimento = paralelepipedo[2]"
   ]
  },
  {
   "cell_type": "code",
   "execution_count": 11,
   "id": "de06c8bd",
   "metadata": {},
   "outputs": [],
   "source": [
    "#Processamento\n",
    "area = retangulo[0] * retangulo [1]\n",
    "areaParalelepipedo = comprimento * largura * altura"
   ]
  },
  {
   "cell_type": "code",
   "execution_count": 12,
   "id": "17abfd89",
   "metadata": {},
   "outputs": [
    {
     "name": "stdout",
     "output_type": "stream",
     "text": [
      "A área do retangulo é:  35 M²\n",
      "A área do paralelepipedo é:  72 M²\n"
     ]
    }
   ],
   "source": [
    "#saída\n",
    "print(\"A área do retangulo é: \", area, \"M²\")\n",
    "print(\"A área do paralelepipedo é: \", areaParalelepipedo, \"M²\")"
   ]
  },
  {
   "cell_type": "code",
   "execution_count": 7,
   "id": "4a06b87b",
   "metadata": {},
   "outputs": [],
   "source": []
  },
  {
   "cell_type": "code",
   "execution_count": null,
   "id": "94335d8c",
   "metadata": {},
   "outputs": [],
   "source": []
  },
  {
   "cell_type": "code",
   "execution_count": null,
   "id": "d1b981e1",
   "metadata": {},
   "outputs": [],
   "source": []
  },
  {
   "cell_type": "code",
   "execution_count": null,
   "id": "d7311f1b",
   "metadata": {},
   "outputs": [],
   "source": []
  }
 ],
 "metadata": {
  "kernelspec": {
   "display_name": "Python 3 (ipykernel)",
   "language": "python",
   "name": "python3"
  },
  "language_info": {
   "codemirror_mode": {
    "name": "ipython",
    "version": 3
   },
   "file_extension": ".py",
   "mimetype": "text/x-python",
   "name": "python",
   "nbconvert_exporter": "python",
   "pygments_lexer": "ipython3",
   "version": "3.9.7"
  }
 },
 "nbformat": 4,
 "nbformat_minor": 5
}
