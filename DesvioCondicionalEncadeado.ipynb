{
 "cells": [
  {
   "cell_type": "code",
   "execution_count": 21,
   "id": "399e4546",
   "metadata": {},
   "outputs": [
    {
     "name": "stdout",
     "output_type": "stream",
     "text": [
      "Qual é o seu nome? laercio\n",
      "Bom dia Sr. laercio\n",
      "Vejo que é novo por aqui. Digite sua idade: 12\n",
      "Quanto você quer sacar: 250\n",
      "Saque efetuado com sucesso!\n",
      "Você sacou 250.0R$ e agora seu saldo é: 150.0R$\n"
     ]
    }
   ],
   "source": [
    "saldo = 400\n",
    "nome = input('Qual é o seu nome? ')\n",
    "print('Bom dia Sr. '+str(nome))\n",
    "idade = float(input('Vejo que é novo por aqui. Digite sua idade: '))\n",
    "saldoMaior = saldo+500\n",
    "valor_saque = float(input('Quanto você quer sacar: '))\n",
    "\n",
    "if idade >= 25 and valor_saque <= saldoMaior:\n",
    "    saldo -= valor_saque\n",
    "    print('Saque efetuado com sucesso!')\n",
    "    print('Você sacou '+str(valor_saque)+'R$ e agora seu saldo é: '+str(saldo)+'R$')\n",
    "\n",
    "elif saldo >= valor_saque:\n",
    "    saldo -= valor_saque\n",
    "    print('Saque efetuado com sucesso!')\n",
    "    print('Você sacou '+str(valor_saque)+'R$ e agora seu saldo é: '+str(saldo)+'R$')\n",
    "    \n",
    "else:\n",
    "    print('Saque não efetuado.')\n",
    "    print('Você não tem saldo o suficiente')\n",
    "        "
   ]
  },
  {
   "cell_type": "code",
   "execution_count": 19,
   "id": "886dc950",
   "metadata": {},
   "outputs": [
    {
     "name": "stdout",
     "output_type": "stream",
     "text": [
      "900\n",
      "-300.0\n"
     ]
    }
   ],
   "source": [
    "print(saldoMaior)\n",
    "print(saldo)"
   ]
  },
  {
   "cell_type": "code",
   "execution_count": null,
   "id": "21bb5b46",
   "metadata": {},
   "outputs": [],
   "source": [
    "saldo = 400\n",
    "nome = input('Qual é o seu nome? ')\n",
    "print('Bom dia Sr. '+str(nome))\n",
    "idade = float(input('Vejo que é novo por aqui. Digite sua idade: '))\n",
    "saldoMaior = saldo+500\n",
    "valor_saque = float(input('Quanto você quer sacar: '))\n",
    "\n",
    "if idade >= 25: \n",
    "    if saldoMaior >= valor_saque:\n",
    "        saldo -= valor_saque\n",
    "        print('Saque efetuado com sucesso!')\n",
    "        print('Você sacou '+str(valor_saque)+'R$ e agora seu saldo é: '+str(saldo)+'R$')\n",
    "    else:\n",
    "        print('Saque não efetuado.')\n",
    "        print('Você não tem saldo o suficiente')\n",
    "else:\n",
    "    if saldo >= valor_saque:\n",
    "        saldo -= valor_saque\n",
    "        print('Saque efetuado com sucesso!')\n",
    "        print('Você sacou '+str(valor_saque)+'R$ e agora seu saldo é: '+str(saldo)+'R$')\n",
    "    else:\n",
    "        print('Saque não efetuado.')\n",
    "        print('Você não tem saldo o suficiente')"
   ]
  }
 ],
 "metadata": {
  "kernelspec": {
   "display_name": "Python 3 (ipykernel)",
   "language": "python",
   "name": "python3"
  },
  "language_info": {
   "codemirror_mode": {
    "name": "ipython",
    "version": 3
   },
   "file_extension": ".py",
   "mimetype": "text/x-python",
   "name": "python",
   "nbconvert_exporter": "python",
   "pygments_lexer": "ipython3",
   "version": "3.9.7"
  }
 },
 "nbformat": 4,
 "nbformat_minor": 5
}
