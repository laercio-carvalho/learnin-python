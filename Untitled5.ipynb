{
 "cells": [
  {
   "cell_type": "code",
   "execution_count": 1,
   "id": "e4189d60",
   "metadata": {},
   "outputs": [
    {
     "name": "stdout",
     "output_type": "stream",
     "text": [
      "['Água', 'Éter', 'Terra', 'Metal']\n"
     ]
    }
   ],
   "source": [
    "elementos = ['Água', 'Fogo', 'Terra', 'Ar']\n",
    "\n",
    "elementos[3] = 'Metal'\n",
    "\n",
    "elementos.insert(1, 'Éter')\n",
    "\n",
    "elementos.pop(2)\n",
    "\n",
    "print(elementos)"
   ]
  },
  {
   "cell_type": "code",
   "execution_count": 6,
   "id": "d37412e6",
   "metadata": {},
   "outputs": [],
   "source": [
    "#Entrada\n",
    "numeros = [1, 3, 5, 7, 9, 11, 13, 15, 17, 19, 21, 23, 25, 27, 29]"
   ]
  },
  {
   "cell_type": "code",
   "execution_count": 9,
   "id": "8134129e",
   "metadata": {},
   "outputs": [
    {
     "name": "stdout",
     "output_type": "stream",
     "text": [
      "[3, 9, 15, 21]\n"
     ]
    }
   ],
   "source": [
    "print(numeros[1:11:3])"
   ]
  },
  {
   "cell_type": "code",
   "execution_count": 1,
   "id": "0ee771e1",
   "metadata": {},
   "outputs": [
    {
     "data": {
      "text/plain": [
       "[3, 5, 7, 3, 5, 7, 2, 2, 2]"
      ]
     },
     "execution_count": 1,
     "metadata": {},
     "output_type": "execute_result"
    }
   ],
   "source": [
    "[3, 5, 7] * 2 + [2] * 3"
   ]
  },
  {
   "cell_type": "code",
   "execution_count": 3,
   "id": "f5ca82ed",
   "metadata": {},
   "outputs": [],
   "source": [
    "livros = [\n",
    "\n",
    "    'Harry Potter e a Ordem da Fênix',\n",
    "\n",
    "    'A Guerra dos Tronos',\n",
    "\n",
    "    'A Sociedade do Anel',\n",
    "\n",
    "    'A Batalha do Apocalipse',\n",
    "\n",
    "    'A Torre Negra', \n",
    "\n",
    "    'O Castelo das Águias',\n",
    "\n",
    "    'Os Cavaleiros do inverno'\n",
    "\n",
    "]\n",
    "\n",
    "paginas = [766, 694, 423, 586, 872, 171, 729]"
   ]
  },
  {
   "cell_type": "code",
   "execution_count": 4,
   "id": "b43873e9",
   "metadata": {},
   "outputs": [
    {
     "name": "stdout",
     "output_type": "stream",
     "text": [
      "694\n",
      "['A Guerra dos Tronos']\n",
      "1280\n",
      "['A Guerra dos Tronos', 'A Batalha do Apocalipse']\n",
      "2009\n",
      "['A Guerra dos Tronos', 'A Batalha do Apocalipse', 'Os Cavaleiros do inverno']\n"
     ]
    }
   ],
   "source": [
    "#d)\n",
    "livros_sel = []\n",
    "\n",
    "paginas_tot = 0\n",
    "\n",
    "for i in range(len(livros)):\n",
    "\n",
    "    if 500 <= paginas[i] <= 750:\n",
    "\n",
    "        livros_sel.append(livros[i])\n",
    "\n",
    "        paginas_tot += paginas[i]\n",
    "        print(paginas_tot)\n",
    "        print(livros_sel)"
   ]
  },
  {
   "cell_type": "code",
   "execution_count": 5,
   "id": "714925fb",
   "metadata": {},
   "outputs": [
    {
     "name": "stdout",
     "output_type": "stream",
     "text": [
      "2009\n",
      "['A Guerra dos Tronos', 'A Batalha do Apocalipse', 'Os Cavaleiros do inverno']\n"
     ]
    }
   ],
   "source": [
    "print(paginas_tot)\n",
    "print(livros_sel)"
   ]
  },
  {
   "cell_type": "code",
   "execution_count": 15,
   "id": "8111ff9d",
   "metadata": {},
   "outputs": [
    {
     "data": {
      "text/plain": [
       "231"
      ]
     },
     "execution_count": 15,
     "metadata": {},
     "output_type": "execute_result"
    }
   ],
   "source": [
    "ord(\"ç\")"
   ]
  },
  {
   "cell_type": "code",
   "execution_count": 9,
   "id": "8ada1c14",
   "metadata": {},
   "outputs": [
    {
     "data": {
      "text/plain": [
       "'a'"
      ]
     },
     "execution_count": 9,
     "metadata": {},
     "output_type": "execute_result"
    }
   ],
   "source": [
    "chr(97)"
   ]
  },
  {
   "cell_type": "code",
   "execution_count": 18,
   "id": "32a7fb9c",
   "metadata": {},
   "outputs": [
    {
     "name": "stdout",
     "output_type": "stream",
     "text": [
      "2323\n",
      "2424\n"
     ]
    },
    {
     "ename": "NameError",
     "evalue": "name 'np' is not defined",
     "output_type": "error",
     "traceback": [
      "\u001b[0;31m---------------------------------------------------------------------------\u001b[0m",
      "\u001b[0;31mNameError\u001b[0m                                 Traceback (most recent call last)",
      "\u001b[0;32m/tmp/ipykernel_5447/3811008469.py\u001b[0m in \u001b[0;36m<module>\u001b[0;34m\u001b[0m\n\u001b[1;32m     15\u001b[0m     \u001b[0;32mreturn\u001b[0m \u001b[0mN\u001b[0m\u001b[0;34m\u001b[0m\u001b[0;34m\u001b[0m\u001b[0m\n\u001b[1;32m     16\u001b[0m \u001b[0;34m\u001b[0m\u001b[0m\n\u001b[0;32m---> 17\u001b[0;31m \u001b[0mm\u001b[0m \u001b[0;34m=\u001b[0m \u001b[0mmatriz_up\u001b[0m\u001b[0;34m(\u001b[0m\u001b[0;36m23\u001b[0m\u001b[0;34m,\u001b[0m\u001b[0;36m24\u001b[0m\u001b[0;34m)\u001b[0m\u001b[0;34m\u001b[0m\u001b[0;34m\u001b[0m\u001b[0m\n\u001b[0m",
      "\u001b[0;32m/tmp/ipykernel_5447/3811008469.py\u001b[0m in \u001b[0;36mmatriz_up\u001b[0;34m(nlinhas, ncolunas)\u001b[0m\n\u001b[1;32m      2\u001b[0m     \u001b[0minput\u001b[0m\u001b[0;34m(\u001b[0m\u001b[0mnlinhas\u001b[0m\u001b[0;34m)\u001b[0m\u001b[0;34m\u001b[0m\u001b[0;34m\u001b[0m\u001b[0m\n\u001b[1;32m      3\u001b[0m     \u001b[0minput\u001b[0m\u001b[0;34m(\u001b[0m\u001b[0mncolunas\u001b[0m\u001b[0;34m)\u001b[0m\u001b[0;34m\u001b[0m\u001b[0;34m\u001b[0m\u001b[0m\n\u001b[0;32m----> 4\u001b[0;31m     \u001b[0mN\u001b[0m \u001b[0;34m=\u001b[0m \u001b[0mnp\u001b[0m\u001b[0;34m.\u001b[0m\u001b[0mzeros\u001b[0m\u001b[0;34m(\u001b[0m\u001b[0;34m(\u001b[0m\u001b[0mnlinhas\u001b[0m\u001b[0;34m,\u001b[0m \u001b[0mncolunas\u001b[0m\u001b[0;34m)\u001b[0m\u001b[0;34m)\u001b[0m\u001b[0;34m\u001b[0m\u001b[0;34m\u001b[0m\u001b[0m\n\u001b[0m\u001b[1;32m      5\u001b[0m     \u001b[0mpercent\u001b[0m \u001b[0;34m=\u001b[0m \u001b[0;36m1\u001b[0m\u001b[0;34m\u001b[0m\u001b[0;34m\u001b[0m\u001b[0m\n\u001b[1;32m      6\u001b[0m     \u001b[0mvalue\u001b[0m \u001b[0;34m=\u001b[0m \u001b[0;34m-\u001b[0m\u001b[0;36m1.05\u001b[0m\u001b[0;34m\u001b[0m\u001b[0;34m\u001b[0m\u001b[0m\n",
      "\u001b[0;31mNameError\u001b[0m: name 'np' is not defined"
     ]
    }
   ],
   "source": [
    "def matriz_up(nlinhas, ncolunas) :\n",
    "    input(nlinhas)\n",
    "    input(ncolunas)\n",
    "    N = np.zeros((nlinhas, ncolunas))\n",
    "    percent = 1\n",
    "    value = -1.05\n",
    "    for i in np.arange(nlinhas):\n",
    "        for j in np.arange(ncolunas) :\n",
    "            if i == j :\n",
    "                N[i,j] = value * percent\n",
    "                value = N[i,j]\n",
    "                percent = 1.10\n",
    "            elif i == j - 1 :\n",
    "                N[i,j] = 1\n",
    "    return N\n",
    "\n",
    "m = matriz_up(23,24)"
   ]
  },
  {
   "cell_type": "code",
   "execution_count": null,
   "id": "2dc482f4",
   "metadata": {},
   "outputs": [],
   "source": []
  },
  {
   "cell_type": "code",
   "execution_count": null,
   "id": "4eb159e5",
   "metadata": {},
   "outputs": [],
   "source": []
  },
  {
   "cell_type": "code",
   "execution_count": null,
   "id": "1cd3a4dd",
   "metadata": {},
   "outputs": [],
   "source": []
  },
  {
   "cell_type": "code",
   "execution_count": null,
   "id": "3b3690d2",
   "metadata": {},
   "outputs": [],
   "source": []
  },
  {
   "cell_type": "code",
   "execution_count": null,
   "id": "6effbd13",
   "metadata": {},
   "outputs": [],
   "source": []
  },
  {
   "cell_type": "code",
   "execution_count": null,
   "id": "c68c2192",
   "metadata": {},
   "outputs": [],
   "source": []
  },
  {
   "cell_type": "code",
   "execution_count": null,
   "id": "6a3f49cc",
   "metadata": {},
   "outputs": [],
   "source": []
  },
  {
   "cell_type": "code",
   "execution_count": null,
   "id": "30b8bb53",
   "metadata": {},
   "outputs": [],
   "source": []
  }
 ],
 "metadata": {
  "kernelspec": {
   "display_name": "Python 3 (ipykernel)",
   "language": "python",
   "name": "python3"
  },
  "language_info": {
   "codemirror_mode": {
    "name": "ipython",
    "version": 3
   },
   "file_extension": ".py",
   "mimetype": "text/x-python",
   "name": "python",
   "nbconvert_exporter": "python",
   "pygments_lexer": "ipython3",
   "version": "3.9.7"
  }
 },
 "nbformat": 4,
 "nbformat_minor": 5
}
