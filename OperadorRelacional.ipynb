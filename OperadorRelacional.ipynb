{
 "cells": [
  {
   "cell_type": "code",
   "execution_count": 2,
   "id": "072e16ad",
   "metadata": {
    "scrolled": true
   },
   "outputs": [
    {
     "name": "stdout",
     "output_type": "stream",
     "text": [
      "Digite o valor de X: 2\n",
      "Digite o valor de Y: 3\n",
      "X é igual a Y? \n",
      "O resultado é: False\n",
      "X é Diferente de Y? \n",
      "O resultado é: True\n",
      "X é Maior que Y? \n",
      "O resultado é: False\n",
      "X é Maior ou Igual a Y? \n",
      "O resultado é: False\n",
      "X é Menor que Y? \n",
      "O resultado é: True\n",
      "X é Menor ou Igual a Y? \n",
      "O resultado é: True\n"
     ]
    }
   ],
   "source": [
    "x_float = float(input('Digite o valor de X: '))\n",
    "\n",
    "#oper = input(\"Escolha a Operação Matemática (+, -, *, /, **, //, %): \")\n",
    "y_float = float(input('Digite o valor de Y: '))\n",
    "print('X é igual a Y? ') \n",
    "operacao = x_float == y_float\n",
    "print('O resultado é: ' +str(operacao))\n",
    "\n",
    "print('X é Diferente de Y? ') \n",
    "operacao = x_float != y_float\n",
    "print('O resultado é: ' +str(operacao))\n",
    "\n",
    "print('X é Maior que Y? ') \n",
    "operacao = x_float > y_float\n",
    "print('O resultado é: ' +str(operacao))\n",
    "\n",
    "print('X é Maior ou Igual a Y? ')\n",
    "operacao = x_float >= y_float\n",
    "print('O resultado é: ' +str(operacao))\n",
    "\n",
    "print('X é Menor que Y? ')\n",
    "operacao = x_float < y_float\n",
    "print('O resultado é: ' +str(operacao))\n",
    "\n",
    "print('X é Menor ou Igual a Y? ')\n",
    "operacao = x_float <= y_float\n",
    "print('O resultado é: ' +str(operacao))"
   ]
  },
  {
   "cell_type": "code",
   "execution_count": 1,
   "id": "0e2b3835",
   "metadata": {},
   "outputs": [
    {
     "name": "stdout",
     "output_type": "stream",
     "text": [
      "Digite o valor de X: 2\n",
      "Digite o valor de Y: 3\n",
      "X é igual a Y? \n",
      "O resultado é: False\n"
     ]
    }
   ],
   "source": [
    "x_float = float(input('Digite o valor de X: '))\n",
    "\n",
    "#oper = input(\"Escolha a Operação Matemática (+, -, *, /, **, //, %): \")\n",
    "y_float = float(input('Digite o valor de Y: '))\n",
    "print('X é igual a Y? ') \n",
    "operacao = x_float == y_float\n",
    "print('O resultado é: ' +str(operacao))"
   ]
  },
  {
   "cell_type": "code",
   "execution_count": 31,
   "id": "e99962d0",
   "metadata": {},
   "outputs": [
    {
     "name": "stdout",
     "output_type": "stream",
     "text": [
      "Digite o valor de X: verdade verde\n",
      "Digite o valor de Y: werdade\n",
      "X é igual a Y? \n",
      "O resultado é: True\n"
     ]
    }
   ],
   "source": [
    "x_float = input('Digite o valor de X: ')\n",
    "\n",
    "#oper = input(\"Escolha a Operação Matemática (+, -, *, /, **, //, %): \")\n",
    "y_float = input('Digite o valor de Y: ')\n",
    "print('X é igual a Y? ') \n",
    "operacao = x_float not in y_float\n",
    "print('O resultado é: ' +str(operacao))"
   ]
  },
  {
   "cell_type": "code",
   "execution_count": null,
   "id": "07a5656b",
   "metadata": {},
   "outputs": [],
   "source": []
  },
  {
   "cell_type": "code",
   "execution_count": null,
   "id": "cd80654e",
   "metadata": {},
   "outputs": [],
   "source": []
  }
 ],
 "metadata": {
  "kernelspec": {
   "display_name": "Python 3 (ipykernel)",
   "language": "python",
   "name": "python3"
  },
  "language_info": {
   "codemirror_mode": {
    "name": "ipython",
    "version": 3
   },
   "file_extension": ".py",
   "mimetype": "text/x-python",
   "name": "python",
   "nbconvert_exporter": "python",
   "pygments_lexer": "ipython3",
   "version": "3.9.7"
  }
 },
 "nbformat": 4,
 "nbformat_minor": 5
}
