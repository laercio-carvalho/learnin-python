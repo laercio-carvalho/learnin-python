{
 "cells": [
  {
   "cell_type": "code",
   "execution_count": 26,
   "id": "05a78ae4",
   "metadata": {},
   "outputs": [],
   "source": [
    "compras = [\n",
    "    {\"nome\": \"aveia\", \"quant\": 6, \"preço\": 2.5},\n",
    "    {\"nome\": \"manteiga\", \"quant\": 2, \"preço\": 15.0},\n",
    "    {\"nome\": \"detergente\", \"quant\": 3, \"preço\": 1.5},\n",
    "    {\"nome\": \"café\", \"quant\": 5, \"preço\": 8.0},\n",
    "    ]\n",
    "    \n",
    "def filtrar_compras(compras, valorMax, quantMax):\n",
    "    lista = []\n",
    "    for prod in compras:\n",
    "        if valor_ok(prod, valorMax) and quant_ok(prod, quantMax):\n",
    "            lista.append(prod)\n",
    "    return lista\n",
    "\n",
    "def quant_ok(prod, quantMax):\n",
    "    return (prod[\"quant\"] <= quantMax)\n",
    "\n",
    "    def valor_ok(prod, valorMax):\n",
    "        return (prod[\"quant\"] * prod[\"preço\"] <= valorMax)\n",
    "\n",
    "        filtrar_compras(compras, valorMax=25, quantMax=4)"
   ]
  },
  {
   "cell_type": "code",
   "execution_count": 18,
   "id": "e2c4fd86",
   "metadata": {},
   "outputs": [
    {
     "data": {
      "text/plain": [
       "[{'nome': 'aveia', 'quant': 6, 'preço': 2.5},\n",
       " {'nome': 'manteiga', 'quant': 2, 'preço': 15.0},\n",
       " {'nome': 'detergente', 'quant': 3, 'preço': 1.5},\n",
       " {'nome': 'café', 'quant': 5, 'preço': 8.0}]"
      ]
     },
     "execution_count": 18,
     "metadata": {},
     "output_type": "execute_result"
    }
   ],
   "source": [
    "[{'nome': 'aveia', 'quant': 6, 'preço': 2.5}, {'nome': 'manteiga', 'quant': 2, 'preço': 15.0}, {'nome': 'detergente', 'quant': 3, 'preço': 1.5}, {'nome': 'café', 'quant': 5, 'preço': 8.0}]"
   ]
  },
  {
   "cell_type": "code",
   "execution_count": 21,
   "id": "218d5c26",
   "metadata": {},
   "outputs": [
    {
     "data": {
      "text/plain": [
       "[{'nome': 'aveia', 'quant': 6, 'preço': 2.5},\n",
       " {'nome': 'manteiga', 'quant': 2, 'preço': 15.0},\n",
       " {'nome': 'detergente', 'quant': 3, 'preço': 1.5},\n",
       " {'nome': 'café', 'quant': 5, 'preço': 8.0}]"
      ]
     },
     "execution_count": 21,
     "metadata": {},
     "output_type": "execute_result"
    }
   ],
   "source": [
    "[{'nome': 'aveia', 'quant': 6, 'preço': 2.5}, {'nome': 'manteiga', 'quant': 2, 'preço': 15.0}, {'nome': 'detergente', 'quant': 3, 'preço': 1.5}, {'nome': 'café', 'quant': 5, 'preço': 8.0}]"
   ]
  },
  {
   "cell_type": "code",
   "execution_count": 24,
   "id": "3c008296",
   "metadata": {},
   "outputs": [
    {
     "data": {
      "text/plain": [
       "[{'nome': 'manteiga', 'quant': 2, 'preço': 15.0},\n",
       " {'nome': 'detergente', 'quant': 3, 'preço': 1.5}]"
      ]
     },
     "execution_count": 24,
     "metadata": {},
     "output_type": "execute_result"
    }
   ],
   "source": [
    "[{'nome': 'manteiga', 'quant': 2, 'preço': 15.0}, {'nome': 'detergente', 'quant': 3, 'preço': 1.5}]"
   ]
  },
  {
   "cell_type": "code",
   "execution_count": 13,
   "id": "2522df72",
   "metadata": {},
   "outputs": [
    {
     "data": {
      "text/plain": [
       "[{'nome': 'detergente', 'quant': 3, 'preço': 1.5}]"
      ]
     },
     "execution_count": 13,
     "metadata": {},
     "output_type": "execute_result"
    }
   ],
   "source": [
    "[{'nome': 'detergente', 'quant': 3, 'preço': 1.5}]"
   ]
  },
  {
   "cell_type": "code",
   "execution_count": 27,
   "id": "e4a9432a",
   "metadata": {},
   "outputs": [
    {
     "name": "stdout",
     "output_type": "stream",
     "text": [
      "<function filtrar_compras at 0x7f220b1b2af0>\n"
     ]
    }
   ],
   "source": [
    "print(filtrar_compras)"
   ]
  },
  {
   "cell_type": "code",
   "execution_count": null,
   "id": "d323fbc1",
   "metadata": {},
   "outputs": [],
   "source": []
  }
 ],
 "metadata": {
  "kernelspec": {
   "display_name": "Python 3 (ipykernel)",
   "language": "python",
   "name": "python3"
  },
  "language_info": {
   "codemirror_mode": {
    "name": "ipython",
    "version": 3
   },
   "file_extension": ".py",
   "mimetype": "text/x-python",
   "name": "python",
   "nbconvert_exporter": "python",
   "pygments_lexer": "ipython3",
   "version": "3.9.7"
  }
 },
 "nbformat": 4,
 "nbformat_minor": 5
}
