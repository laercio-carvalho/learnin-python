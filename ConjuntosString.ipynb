{
 "cells": [
  {
   "cell_type": "code",
   "execution_count": 4,
   "id": "f20d188e",
   "metadata": {},
   "outputs": [],
   "source": [
    "frutas = {\"maçã\", \"banana\", \"manga\", \"maçã\"}"
   ]
  },
  {
   "cell_type": "code",
   "execution_count": 5,
   "id": "c96a2a3e",
   "metadata": {},
   "outputs": [
    {
     "name": "stdout",
     "output_type": "stream",
     "text": [
      "{'manga', 'maçã', 'banana'}\n"
     ]
    }
   ],
   "source": [
    "print(frutas)"
   ]
  },
  {
   "cell_type": "code",
   "execution_count": 6,
   "id": "0021f16d",
   "metadata": {},
   "outputs": [],
   "source": [
    "respostas = ['Manaus', 'Brasília', 'Fortaleza', 'Manaus', 'Rio de Janeiro', 'Brasília', \n",
    "  'Fortaleza', 'Natal', 'Sobral', 'Fortaleza', 'Cuiabá', 'Sobral', \n",
    "  'Aracoiaba', 'Natal', 'Belo Horizonte', 'Fortaleza', 'Sobral', 'Petrolina']"
   ]
  },
  {
   "cell_type": "code",
   "execution_count": 7,
   "id": "92db0e79",
   "metadata": {},
   "outputs": [],
   "source": [
    "#Aqui se atribui o resultado do set respostas a cidades\n",
    "cidades = set(respostas)"
   ]
  },
  {
   "cell_type": "code",
   "execution_count": 8,
   "id": "b8882eda",
   "metadata": {},
   "outputs": [
    {
     "name": "stdout",
     "output_type": "stream",
     "text": [
      "{'Natal', 'Sobral', 'Brasília', 'Fortaleza', 'Rio de Janeiro', 'Cuiabá', 'Petrolina', 'Aracoiaba', 'Manaus', 'Belo Horizonte'}\n"
     ]
    }
   ],
   "source": [
    "print(cidades)"
   ]
  },
  {
   "cell_type": "code",
   "execution_count": 15,
   "id": "ad37fc17",
   "metadata": {},
   "outputs": [
    {
     "name": "stdout",
     "output_type": "stream",
     "text": [
      "{'#curtição', '#descanso', '#litoral', '#sol', '#viagem', '#mar', '#férias', '#natureza'}\n"
     ]
    }
   ],
   "source": [
    "#aqui se coloca as características \n",
    "hashtags = ('#sol', '#litoral', '#mar', '#natureza', '#viagem', '#natureza', \n",
    "  '#curtição', '#descanso', '#férias', '#viagem', '#viagem', '#litoral')\n",
    "#Aqui se atribui o resultado do set rashtags a hashtags_set\n",
    "hashtag_set = set(hashtags)\n",
    "print(hashtag_set)"
   ]
  },
  {
   "cell_type": "code",
   "execution_count": 32,
   "id": "b179b566",
   "metadata": {},
   "outputs": [
    {
     "name": "stdout",
     "output_type": "stream",
     "text": [
      "{'F', ' ', 'r', 'A', 's', 'n', 'a', 'i', 'e', 't', 'M'}\n"
     ]
    }
   ],
   "source": [
    "#Separando cada caractere sem repetí-los\n",
    "nome = 'Ana Maria Freitas'\n",
    "letras = set(nome)\n",
    "print(letras)"
   ]
  },
  {
   "cell_type": "code",
   "execution_count": 27,
   "id": "a5fb015a",
   "metadata": {},
   "outputs": [],
   "source": [
    "#Retirando os espaços e deixando tudo em maiúsculo\n",
    "nome_tratado = nome.replace(' ', '').upper()\n",
    "letras = set(nome_tratado)"
   ]
  },
  {
   "cell_type": "code",
   "execution_count": 28,
   "id": "ae7cfe63",
   "metadata": {},
   "outputs": [
    {
     "name": "stdout",
     "output_type": "stream",
     "text": [
      "ANAMARIAFREITAS\n"
     ]
    }
   ],
   "source": [
    "print(nome_tratado)"
   ]
  },
  {
   "cell_type": "code",
   "execution_count": 31,
   "id": "489dda2f",
   "metadata": {},
   "outputs": [
    {
     "name": "stdout",
     "output_type": "stream",
     "text": [
      "{'F', 'E', 'N', 'A', 'S', 'R', 'I', 'T', 'M'}\n"
     ]
    }
   ],
   "source": [
    "#Retirando os espaços e deixando tudo maiúculo\n",
    "nome = 'Ana Maria Freitas'.replace(' ','').upper()\n",
    "#Atribuindo o resultado separando as letras todas em maiúsculo e exibindo as letras sem repetição\n",
    "letras = set(nome)\n",
    "print(letras)"
   ]
  },
  {
   "cell_type": "code",
   "execution_count": null,
   "id": "54499ad8",
   "metadata": {},
   "outputs": [],
   "source": []
  }
 ],
 "metadata": {
  "kernelspec": {
   "display_name": "Python 3 (ipykernel)",
   "language": "python",
   "name": "python3"
  },
  "language_info": {
   "codemirror_mode": {
    "name": "ipython",
    "version": 3
   },
   "file_extension": ".py",
   "mimetype": "text/x-python",
   "name": "python",
   "nbconvert_exporter": "python",
   "pygments_lexer": "ipython3",
   "version": "3.9.7"
  }
 },
 "nbformat": 4,
 "nbformat_minor": 5
}
