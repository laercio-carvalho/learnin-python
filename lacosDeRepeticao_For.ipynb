{
 "cells": [
  {
   "cell_type": "code",
   "execution_count": 82,
   "id": "9cc17675",
   "metadata": {},
   "outputs": [
    {
     "name": "stdout",
     "output_type": "stream",
     "text": [
      "Hoje o animal macaco está em promoção!\n",
      "Aproveite e leve um: banana\n",
      "Aproveite e leve um: maçã\n",
      "Aproveite e leve um: laranja\n",
      "Aproveite e leve um: acerola\n",
      "Hoje o animal cachorro está em promoção!\n",
      "Aproveite e leve um: banana\n",
      "Aproveite e leve um: maçã\n",
      "Aproveite e leve um: laranja\n",
      "Aproveite e leve um: acerola\n",
      "Hoje o animal gato está em promoção!\n",
      "Aproveite e leve um: banana\n",
      "Aproveite e leve um: maçã\n",
      "Aproveite e leve um: laranja\n",
      "Aproveite e leve um: acerola\n",
      "Hoje o animal jaguatirica está em promoção!\n",
      "Aproveite e leve um: banana\n",
      "Aproveite e leve um: maçã\n",
      "Aproveite e leve um: laranja\n",
      "Aproveite e leve um: acerola\n",
      "Hoje o animal peixe está em promoção!\n",
      "Aproveite e leve um: banana\n",
      "Aproveite e leve um: maçã\n",
      "Aproveite e leve um: laranja\n",
      "Aproveite e leve um: acerola\n"
     ]
    }
   ],
   "source": [
    "frutas_em_promocao = [\"banana\", \"maçã\", \"laranja\", \"acerola\"]\n",
    "animais = [\"macaco\", \"cachorro\", \"gato\", \"jaguatirica\", \"peixe\"]\n",
    "for animal in animais:\n",
    "    print('Hoje o animal ' + animal + ' está em promoção!')\n",
    "    for fruta in frutas_em_promocao:\n",
    "        print('Aproveite e leve um: ' + fruta)"
   ]
  },
  {
   "cell_type": "code",
   "execution_count": 14,
   "id": "f0aa6f9c",
   "metadata": {},
   "outputs": [
    {
     "data": {
      "text/plain": [
       "[-1, 0, 1, 2, 3, 4]"
      ]
     },
     "execution_count": 14,
     "metadata": {},
     "output_type": "execute_result"
    }
   ],
   "source": [
    "list(range(-1,5,1))"
   ]
  },
  {
   "cell_type": "code",
   "execution_count": 29,
   "id": "b0241259",
   "metadata": {},
   "outputs": [
    {
     "data": {
      "text/plain": [
       "[2, 3, 4, 5]"
      ]
     },
     "execution_count": 29,
     "metadata": {},
     "output_type": "execute_result"
    }
   ],
   "source": [
    "list(range(2, 6))"
   ]
  },
  {
   "cell_type": "code",
   "execution_count": 32,
   "id": "b0f184a8",
   "metadata": {},
   "outputs": [
    {
     "data": {
      "text/plain": [
       "[0, 4, 8, 12, 16, 20, 24, 28, 32, 36]"
      ]
     },
     "execution_count": 32,
     "metadata": {},
     "output_type": "execute_result"
    }
   ],
   "source": [
    "list(range(0, 40, 4))"
   ]
  },
  {
   "cell_type": "code",
   "execution_count": 58,
   "id": "6d3f8098",
   "metadata": {},
   "outputs": [
    {
     "name": "stdout",
     "output_type": "stream",
     "text": [
      "Hoje a fruta banana está em promoção!\n",
      "Aproveite e leve um: macaco\n",
      "Aproveite e leve um: cachorro\n",
      "Aproveite e leve um: gato\n",
      "Aproveite e leve um: jaguatirica\n",
      "Aproveite e leve um: peixe\n",
      "Hoje a fruta maçã está em promoção!\n",
      "Aproveite e leve um: macaco\n",
      "Aproveite e leve um: cachorro\n",
      "Aproveite e leve um: gato\n",
      "Aproveite e leve um: jaguatirica\n",
      "Aproveite e leve um: peixe\n",
      "Hoje a fruta laranja está em promoção!\n",
      "Aproveite e leve um: macaco\n",
      "Aproveite e leve um: cachorro\n",
      "Aproveite e leve um: gato\n",
      "Aproveite e leve um: jaguatirica\n",
      "Aproveite e leve um: peixe\n",
      "Hoje a fruta acerola está em promoção!\n",
      "Aproveite e leve um: macaco\n",
      "Aproveite e leve um: cachorro\n",
      "Aproveite e leve um: gato\n",
      "Aproveite e leve um: jaguatirica\n",
      "Aproveite e leve um: peixe\n"
     ]
    }
   ],
   "source": []
  },
  {
   "cell_type": "code",
   "execution_count": null,
   "id": "8cc3db41",
   "metadata": {},
   "outputs": [],
   "source": []
  }
 ],
 "metadata": {
  "kernelspec": {
   "display_name": "Python 3 (ipykernel)",
   "language": "python",
   "name": "python3"
  },
  "language_info": {
   "codemirror_mode": {
    "name": "ipython",
    "version": 3
   },
   "file_extension": ".py",
   "mimetype": "text/x-python",
   "name": "python",
   "nbconvert_exporter": "python",
   "pygments_lexer": "ipython3",
   "version": "3.9.7"
  }
 },
 "nbformat": 4,
 "nbformat_minor": 5
}
