{
 "cells": [
  {
   "cell_type": "code",
   "execution_count": 35,
   "id": "78d2826b",
   "metadata": {},
   "outputs": [
    {
     "name": "stdout",
     "output_type": "stream",
     "text": [
      "Qual é o seu nome? laercio\n",
      "Bom dia Sr. laercio\n",
      "Quanto você quer sacar: 100\n",
      "Saque efetuado com sucesso!\n",
      "Saque efetuado do Saldo\n",
      "Você sacou 100.0R$ e agora seu saldo é: 300.0R$\n"
     ]
    }
   ],
   "source": [
    "#Esse código é para testar as possibilidades de um usuário que já tem 400 Reais no Banco\n",
    "saldo = 400\n",
    "chequeEspecial = saldo+500\n",
    "\n",
    "nome = input('Qual é o seu nome? ')\n",
    "print('Bom dia Sr. '+str(nome))\n",
    "valor_saque = float(input('Quanto você quer sacar: '))\n",
    "#aqui eu testei logo no valor máximo possível, o cheque especial, e depois eu verifico/identifico \n",
    "#se é dele ou não a retirada de valor\n",
    "if valor_saque <= chequeEspecial:\n",
    "    saldo -= valor_saque\n",
    "    print('Saque efetuado com sucesso!')\n",
    "\n",
    "#Aqui eu confirmo que se o valor for igual ou menor que o saldo, 400 reais, eu identifico que foi retirado do saldo\n",
    "    if valor_saque <= saldo:\n",
    "        print('Saque efetuado do Saldo')\n",
    "#Se não o valor foi retirado foi do cheque especial mesmo.        \n",
    "    else:\n",
    "        print('Valor retirado do Cheque Especial')\n",
    "#Abaixo agora eu informo o valor retirado e o saldo        \n",
    "    print('Você sacou '+str(valor_saque)+'R$ e agora seu saldo é: '+str(saldo)+'R$')\n",
    "#E aqui neste ultimo, quando o valor é acima de 900, informo que não tem saldo.\n",
    "else:\n",
    "    print('Você não tem saldo o suficiente')\n",
    "    "
   ]
  },
  {
   "cell_type": "code",
   "execution_count": 33,
   "id": "125cdbfa",
   "metadata": {},
   "outputs": [
    {
     "name": "stdout",
     "output_type": "stream",
     "text": [
      "400\n",
      "900\n"
     ]
    }
   ],
   "source": [
    "print(saldo)\n",
    "print(chequeEspecial)"
   ]
  },
  {
   "cell_type": "code",
   "execution_count": 38,
   "id": "59d05451",
   "metadata": {},
   "outputs": [
    {
     "name": "stdout",
     "output_type": "stream",
     "text": [
      "Qual é o seu nome? Laércio\n",
      "Bom dia Sr. Laércio\n",
      "Quanto você quer sacar: 1000\n",
      "Você não tem saldo o suficiente\n"
     ]
    }
   ],
   "source": [
    "#Esse código é para testar as possibilidades de um usuário que já tem 400 Reais no Banco\n",
    "#Versão 2\n",
    "saldo = 400\n",
    "chequeEspecial = saldo+500\n",
    "\n",
    "nome = input('Qual é o seu nome? ')\n",
    "print('Bom dia Sr. '+str(nome))\n",
    "valor_saque = float(input('Quanto você quer sacar: '))\n",
    "#aqui eu testei logo no valor máximo possível, o cheque especial, e depois eu verifico/identifico \n",
    "#se é dele ou não a retirada de valor\n",
    "if valor_saque <= chequeEspecial:\n",
    "    saldo -= valor_saque\n",
    "    print('Saque efetuado com sucesso!')\n",
    "\n",
    "#Aqui eu confirmo que se o valor for igual ou menor que o saldo, 400 reais, eu identifico que foi retirado do saldo\n",
    "    if saldo < 0:\n",
    "        print('Valor retirado do Cheque Especial')\n",
    "#Se não o valor foi retirado foi do cheque especial mesmo.        \n",
    "    else:\n",
    "        print('Saque efetuado do saldo')\n",
    "#Abaixo agora eu informo o valor retirado e o saldo        \n",
    "    print('Você sacou '+str(valor_saque)+'R$ e agora seu saldo é: '+str(saldo)+'R$')\n",
    "#E aqui neste ultimo, quando o valor é acima de 900, informo que não tem saldo.\n",
    "else:\n",
    "    print('Você não tem saldo o suficiente')\n",
    "    "
   ]
  },
  {
   "cell_type": "code",
   "execution_count": null,
   "id": "6cc8be8c",
   "metadata": {},
   "outputs": [],
   "source": []
  },
  {
   "cell_type": "code",
   "execution_count": 60,
   "id": "e2e96215",
   "metadata": {},
   "outputs": [
    {
     "name": "stdout",
     "output_type": "stream",
     "text": [
      "Recuperacao\n"
     ]
    }
   ],
   "source": [
    "#x =3 \n",
    "#y = 6\n",
    "nota = 6\n",
    "if nota > 7:\n",
    "    print (\"Aprovado\")\n",
    "else:\n",
    "    if nota == 7 or nota == 6:\n",
    "        print(\"Recuperacao\")\n",
    "    else:\n",
    "        print (\"Reprovado\")"
   ]
  },
  {
   "cell_type": "code",
   "execution_count": 59,
   "id": "b997b739",
   "metadata": {},
   "outputs": [
    {
     "name": "stdout",
     "output_type": "stream",
     "text": [
      "digite o numero: 0\n",
      "Provavelmente é Maior que zero\n",
      "Provavelmente é menor que Zero\n"
     ]
    }
   ],
   "source": [
    "numero = float(input('digite o numero: '))\n",
    "if numero >= 0  :\n",
    "\n",
    "#    comando 01\n",
    "    print('Provavelmente é Maior que zero')\n",
    "\n",
    "    if numero > 0:\n",
    "\n",
    "        #comando 02\n",
    "        print('É maior que Zero')\n",
    "\n",
    "    else :\n",
    "\n",
    "        #comando 03\n",
    "        print('Provavelmente é menor que Zero')\n",
    "\n",
    "else :\n",
    "\n",
    "    if numero < 0:\n",
    "\n",
    "        #Comando 05\n",
    "        print('O numero é menor que Zero')\n",
    "\n",
    "    else:\n",
    "\n",
    "    #conmando 06\n",
    "        print('Isso não é um numero')"
   ]
  },
  {
   "cell_type": "code",
   "execution_count": null,
   "id": "a2b21332",
   "metadata": {},
   "outputs": [],
   "source": []
  },
  {
   "cell_type": "code",
   "execution_count": null,
   "id": "edce50b7",
   "metadata": {},
   "outputs": [],
   "source": []
  }
 ],
 "metadata": {
  "kernelspec": {
   "display_name": "Python 3 (ipykernel)",
   "language": "python",
   "name": "python3"
  },
  "language_info": {
   "codemirror_mode": {
    "name": "ipython",
    "version": 3
   },
   "file_extension": ".py",
   "mimetype": "text/x-python",
   "name": "python",
   "nbconvert_exporter": "python",
   "pygments_lexer": "ipython3",
   "version": "3.9.7"
  }
 },
 "nbformat": 4,
 "nbformat_minor": 5
}
