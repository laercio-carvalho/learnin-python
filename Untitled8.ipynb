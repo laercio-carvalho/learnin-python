{
 "cells": [
  {
   "cell_type": "code",
   "execution_count": 1,
   "id": "298dae49",
   "metadata": {},
   "outputs": [
    {
     "name": "stdout",
     "output_type": "stream",
     "text": [
      "Qual é o nome do aluno(a)? laercio\n",
      "Quantas notas? 3\n",
      "1ª nota: 6\n",
      "A nota de laercio é 6.0\n",
      "2ª nota: 7\n",
      "A nota de laercio é 6.5\n",
      "3ª nota: 9\n",
      "A nota de laercio é 7.333333333333333\n"
     ]
    }
   ],
   "source": [
    "def media(notas):\n",
    "    return sum(notas) / len(notas)\n",
    "\n",
    "nome= input('Qual é o nome do aluno(a)? ')\n",
    "num_notas = int(input('Quantas notas? '))\n",
    "notas = []\n",
    "for i in range(num_notas):\n",
    "    nota= float(input(str(i+1) + 'ª nota: '))\n",
    "    notas.append(nota)\n",
    " \n",
    "    nota_final = media(notas)\n",
    "    print('A nota de', nome, 'é', nota_final)"
   ]
  },
  {
   "cell_type": "code",
   "execution_count": 11,
   "id": "a43ec71c",
   "metadata": {},
   "outputs": [
    {
     "name": "stdout",
     "output_type": "stream",
     "text": [
      "Quantos alunos? 4\n",
      "Quantas notas? 4\n",
      "1º do aluno(a): 5\n",
      "1ª nota: 2\n",
      "2º do aluno(a): 6\n",
      "1ª nota: 7\n",
      "3º do aluno(a): 2\n",
      "1ª nota: 8\n",
      "4º do aluno(a): 6\n",
      "1ª nota: 7\n",
      "A nota de 6 é 7.0\n"
     ]
    }
   ],
   "source": [
    "def media(notas):\n",
    "    return sum(notas) / len(notas)\n",
    "\n",
    "def ler_notas(n):\n",
    "    notas= []\n",
    "    for i in range(n):\n",
    "        nota= float(input(str(i+1) + 'ª nota: ')) \n",
    "        notas.append(nota)\n",
    "        return notas\n",
    "    \n",
    "num_alunos = int(input('Quantos alunos? '))\n",
    "num_notas = int(input('Quantas notas? '))\n",
    "for i in range(num_alunos):\n",
    "    nome= input(str(i+1) + 'º do aluno(a): ')\n",
    "    notas = ler_notas(num_notas)\n",
    "    nota_final = media(notas)\n",
    "print('A nota de', nome, 'é', nota_final)"
   ]
  },
  {
   "cell_type": "code",
   "execution_count": 13,
   "id": "8c1fecd8",
   "metadata": {},
   "outputs": [],
   "source": [
    "def media(notas):\n",
    "    \"\"\"Calcula a média de uma sequência de notas (lista, tupla, ou conjunto.\"\"\"\n",
    "    return sum(notas) / len(notas)\n",
    " \n",
    "    def ler_notas(n):\n",
    "        \"\"\"Lê n notas (float, de 0 a 10) do usuário, usando input() e as retorna como uma lista.\"\"\"\n",
    "    notas = []\n",
    "    for i in range(n):\n",
    "        nota = float(input(str(i+1) + 'ª nota: ')) \n",
    "        notas.append(nota)\n",
    "    return notas"
   ]
  },
  {
   "cell_type": "code",
   "execution_count": null,
   "id": "368cee9e",
   "metadata": {},
   "outputs": [],
   "source": []
  }
 ],
 "metadata": {
  "kernelspec": {
   "display_name": "Python 3 (ipykernel)",
   "language": "python",
   "name": "python3"
  },
  "language_info": {
   "codemirror_mode": {
    "name": "ipython",
    "version": 3
   },
   "file_extension": ".py",
   "mimetype": "text/x-python",
   "name": "python",
   "nbconvert_exporter": "python",
   "pygments_lexer": "ipython3",
   "version": "3.9.7"
  }
 },
 "nbformat": 4,
 "nbformat_minor": 5
}
