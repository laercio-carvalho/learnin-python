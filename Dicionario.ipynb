{
 "cells": [
  {
   "cell_type": "code",
   "execution_count": 1,
   "id": "d830c48b",
   "metadata": {},
   "outputs": [],
   "source": [
    "dicionario_01 = {} # dicionário vazio\n",
    "dicionario_02 = dict() # outro dicionário vazio"
   ]
  },
  {
   "cell_type": "code",
   "execution_count": 13,
   "id": "59feeb41",
   "metadata": {},
   "outputs": [],
   "source": [
    "#dicionario com 3 pares de chaves\n",
    "populacao = {'Ceará': 9132078, 'Bahia': 14873064, 'Alagoas': 3337357, 'Maranhão': 7075181}"
   ]
  },
  {
   "cell_type": "code",
   "execution_count": 3,
   "id": "c5a05e5f",
   "metadata": {},
   "outputs": [
    {
     "name": "stdout",
     "output_type": "stream",
     "text": [
      "O Ceará possui 9132078 habitantes.\n"
     ]
    }
   ],
   "source": [
    "# Imprimirá em tela 'O Ceará possui 9132078 habitantes. '\n",
    "print('O Ceará possui {} habitantes.'.format(populacao['Ceará']))"
   ]
  },
  {
   "cell_type": "code",
   "execution_count": 6,
   "id": "c3937b59",
   "metadata": {},
   "outputs": [
    {
     "name": "stdout",
     "output_type": "stream",
     "text": [
      "O Ceará possui 9132078 habitantes.\n",
      "O Bahia possui 14873064 habitantes.\n",
      "O Alagoas possui 3337357 habitantes.\n"
     ]
    }
   ],
   "source": [
    "for chave, valor in populacao.items():\n",
    "    print('O {} possui {} habitantes.'.format(chave, valor))"
   ]
  },
  {
   "cell_type": "code",
   "execution_count": 5,
   "id": "c74646bf",
   "metadata": {},
   "outputs": [],
   "source": [
    "if 0 in populacao:\n",
    "    populacao[0].pop()"
   ]
  },
  {
   "cell_type": "code",
   "execution_count": 9,
   "id": "5263ab3a",
   "metadata": {},
   "outputs": [
    {
     "name": "stdout",
     "output_type": "stream",
     "text": [
      "De qual estado você quer saber a população: São Paulo\n",
      "Infelizmente não sabemos informar a população deste estado :(\n"
     ]
    }
   ],
   "source": [
    "#Pesquisar os dados do estado e verificar se ele está no dicionário ou não.\n",
    "estado = input('De qual estado você quer saber a população: ')\n",
    "pop = populacao.get(estado)\n",
    "if pop == None:\n",
    "    print('Infelizmente não sabemos informar a população deste estado :(')\n",
    "else:\n",
    "    print('{} possui {} habitantes.'.format(estado, pop))"
   ]
  },
  {
   "cell_type": "code",
   "execution_count": 10,
   "id": "03db3a02",
   "metadata": {},
   "outputs": [
    {
     "name": "stdout",
     "output_type": "stream",
     "text": [
      "Escolha entre os estados: Ceará, Bahia, Alagoas\n"
     ]
    }
   ],
   "source": [
    "#Informa quais estados estão disponíveis no dicionário\n",
    "print('Escolha entre os estados: ' + ', '.join(populacao.keys()))"
   ]
  },
  {
   "cell_type": "code",
   "execution_count": 11,
   "id": "8104ddae",
   "metadata": {},
   "outputs": [
    {
     "name": "stdout",
     "output_type": "stream",
     "text": [
      "Alagoas possui 3337357 habitantes.\n",
      "Bahia possui 14873064 habitantes.\n",
      "Ceará possui 9132078 habitantes.\n"
     ]
    }
   ],
   "source": [
    "#Apresenta todos os valores armazenado em um dicionário\n",
    "for estado in sorted(populacao):\n",
    "    print('{} possui {} habitantes.'.format(estado, populacao[estado]))"
   ]
  },
  {
   "cell_type": "code",
   "execution_count": 19,
   "id": "6bd9c2f7",
   "metadata": {},
   "outputs": [
    {
     "name": "stdout",
     "output_type": "stream",
     "text": [
      "Alagoas possui 3337357 habitantes.\n",
      "Maranhão possui 7075181 habitantes.\n",
      "Ceará possui 9132078 habitantes.\n",
      "Bahia possui 14873064 habitantes.\n"
     ]
    }
   ],
   "source": [
    "for estado in sorted(populacao, key=lambda chave : populacao.get(chave)):\n",
    "   print('{} possui {} habitantes.'.format(estado, populacao[estado]))"
   ]
  },
  {
   "cell_type": "code",
   "execution_count": null,
   "id": "af75ddd6",
   "metadata": {},
   "outputs": [],
   "source": []
  }
 ],
 "metadata": {
  "kernelspec": {
   "display_name": "Python 3 (ipykernel)",
   "language": "python",
   "name": "python3"
  },
  "language_info": {
   "codemirror_mode": {
    "name": "ipython",
    "version": 3
   },
   "file_extension": ".py",
   "mimetype": "text/x-python",
   "name": "python",
   "nbconvert_exporter": "python",
   "pygments_lexer": "ipython3",
   "version": "3.9.7"
  }
 },
 "nbformat": 4,
 "nbformat_minor": 5
}
