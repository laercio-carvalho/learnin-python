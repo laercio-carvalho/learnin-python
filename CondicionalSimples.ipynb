{
 "cells": [
  {
   "cell_type": "code",
   "execution_count": 17,
   "id": "a5143e2a",
   "metadata": {},
   "outputs": [
    {
     "name": "stdout",
     "output_type": "stream",
     "text": [
      "Quanto você quer sacar: 253\n",
      "Saque efetuado com sucesso!\n",
      "Você sacou 253.0R$ e agora resta apenas 247.0R$\n"
     ]
    }
   ],
   "source": [
    "saldo = 500\n",
    "valor_saque = float(input('Quanto você quer sacar: '))\n",
    "\n",
    "if saldo >= valor_saque:\n",
    "    saldo -= valor_saque\n",
    "    print('Saque efetuado com sucesso!')\n",
    "    print('Você sacou '+str(valor_saque)+'R$ e agora resta apenas '+str(saldo)+'R$')\n",
    "else:\n",
    "    print('Saque não efetuado.')\n",
    "    print('Você não tem saldo o suficiente')\n",
    "    \n",
    "#saldo -= valor_saque"
   ]
  },
  {
   "cell_type": "code",
   "execution_count": 28,
   "id": "ef1b46ee",
   "metadata": {},
   "outputs": [
    {
     "name": "stdout",
     "output_type": "stream",
     "text": [
      "Você sacou 0R$ e agora resta apenas -203.0R$\n"
     ]
    }
   ],
   "source": [
    "valor_saque = 0\n",
    "saldo -= valor_saque\n",
    "print('Você sacou '+str(valor_saque)+'R$ e agora resta apenas '+str(saldo)+'R$')"
   ]
  },
  {
   "cell_type": "code",
   "execution_count": 27,
   "id": "aea2edd7",
   "metadata": {},
   "outputs": [
    {
     "name": "stdout",
     "output_type": "stream",
     "text": [
      "estou aprendendo Python\n",
      "quero aprender ainda mais\n"
     ]
    }
   ],
   "source": [
    "aprendendo = True\n",
    "if aprendendo:\n",
    "    print('estou aprendendo Python')\n",
    "    print('quero aprender ainda mais')"
   ]
  },
  {
   "cell_type": "code",
   "execution_count": null,
   "id": "9260cb0f",
   "metadata": {},
   "outputs": [],
   "source": []
  }
 ],
 "metadata": {
  "kernelspec": {
   "display_name": "Python 3 (ipykernel)",
   "language": "python",
   "name": "python3"
  },
  "language_info": {
   "codemirror_mode": {
    "name": "ipython",
    "version": 3
   },
   "file_extension": ".py",
   "mimetype": "text/x-python",
   "name": "python",
   "nbconvert_exporter": "python",
   "pygments_lexer": "ipython3",
   "version": "3.9.7"
  }
 },
 "nbformat": 4,
 "nbformat_minor": 5
}
