{
 "cells": [
  {
   "cell_type": "code",
   "execution_count": 3,
   "id": "da0a0605",
   "metadata": {},
   "outputs": [],
   "source": [
    "odometro_km = [0, 15, 65, 165]\n",
    "relogio_min = [0, 15, 45, 125]\n",
    "\n",
    "def calcular_velocidades_medias():\n",
    "    velocidades = []\n",
    "    for i in range(1, len(odometro_km)):\n",
    "        distancia_km = odometro_km[i] - odometro_km[i-1]\n",
    "        tempo_min = relogio_min[i] - relogio_min[i-1]\n",
    "        vel_kmh = velocidade_media_km_h(distancia_km, horas(tempo_min))\n",
    "        velocidades.append(vel_kmh)\n",
    "    return velocidades"
   ]
  },
  {
   "cell_type": "code",
   "execution_count": 18,
   "id": "a70bc68b",
   "metadata": {},
   "outputs": [
    {
     "name": "stdout",
     "output_type": "stream",
     "text": [
      "<function velocidade at 0x7f5583c7e040>\n"
     ]
    }
   ],
   "source": [
    "def horas(minutos):\n",
    "\n",
    "    print(minutos / 60)\n",
    "\n",
    "def velocidade(x, t):\n",
    "\n",
    "    print(x / t)\n",
    "    \n",
    "print(velocidade)"
   ]
  },
  {
   "cell_type": "code",
   "execution_count": 17,
   "id": "80194843",
   "metadata": {},
   "outputs": [
    {
     "name": "stdout",
     "output_type": "stream",
     "text": [
      "<function velocidade at 0x7f5583c7e790>\n"
     ]
    }
   ],
   "source": [
    "def horas():\n",
    "\n",
    "      return minutos / 60\n",
    "\n",
    "def velocidade():\n",
    "\n",
    "      return x / t\n",
    "    \n",
    "print(velocidade)"
   ]
  },
  {
   "cell_type": "code",
   "execution_count": 16,
   "id": "ab393b5f",
   "metadata": {},
   "outputs": [
    {
     "name": "stdout",
     "output_type": "stream",
     "text": [
      "<function velocidade at 0x7f5583c7e670>\n"
     ]
    }
   ],
   "source": [
    "def horas(minutos):\n",
    "\n",
    "     return minutos / 60\n",
    "\n",
    "def velocidade(x, t):\n",
    "\n",
    "     return x / t\n",
    "print(velocidade)"
   ]
  },
  {
   "cell_type": "code",
   "execution_count": 15,
   "id": "a3c9014f",
   "metadata": {},
   "outputs": [
    {
     "name": "stdout",
     "output_type": "stream",
     "text": [
      "<function velocidade at 0x7f5583c7e160>\n"
     ]
    }
   ],
   "source": [
    "def horas():\n",
    "\n",
    "    print(minutos / 60)\n",
    "\n",
    "def velocidade():\n",
    "\n",
    "    print(x / t)\n",
    "print(velocidade)"
   ]
  },
  {
   "cell_type": "code",
   "execution_count": null,
   "id": "fa3bb09c",
   "metadata": {},
   "outputs": [],
   "source": []
  }
 ],
 "metadata": {
  "kernelspec": {
   "display_name": "Python 3 (ipykernel)",
   "language": "python",
   "name": "python3"
  },
  "language_info": {
   "codemirror_mode": {
    "name": "ipython",
    "version": 3
   },
   "file_extension": ".py",
   "mimetype": "text/x-python",
   "name": "python",
   "nbconvert_exporter": "python",
   "pygments_lexer": "ipython3",
   "version": "3.9.7"
  }
 },
 "nbformat": 4,
 "nbformat_minor": 5
}
